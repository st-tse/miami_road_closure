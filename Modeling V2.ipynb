{
 "cells": [
  {
   "cell_type": "markdown",
   "metadata": {},
   "source": [
    "# Imports"
   ]
  },
  {
   "cell_type": "code",
   "execution_count": 4,
   "metadata": {
    "ExecuteTime": {
     "end_time": "2019-07-30T20:05:24.664535Z",
     "start_time": "2019-07-30T20:05:19.499252Z"
    }
   },
   "outputs": [
    {
     "name": "stderr",
     "output_type": "stream",
     "text": [
      "C:\\Users\\steph\\Anaconda3\\lib\\site-packages\\smart_open\\ssh.py:34: UserWarning: paramiko missing, opening SSH/SCP/SFTP paths will be disabled.  `pip install paramiko` to suppress\n",
      "  warnings.warn('paramiko missing, opening SSH/SCP/SFTP paths will be disabled.  `pip install paramiko` to suppress')\n"
     ]
    }
   ],
   "source": [
    "#data stuff\n",
    "import pandas as pd\n",
    "\n",
    "#Modelling\n",
    "from sklearn.pipeline import Pipeline\n",
    "from sklearn.model_selection import train_test_split, GridSearchCV, cross_val_score\n",
    "from sklearn.linear_model import LogisticRegression\n",
    "from sklearn.neighbors import KNeighborsClassifier\n",
    "from sklearn.naive_bayes import MultinomialNB, GaussianNB\n",
    "from sklearn.feature_extraction import text\n",
    "\n",
    "#NLP\n",
    "import nltk\n",
    "from nltk.stem import WordNetLemmatizer\n",
    "from nltk.tokenize import RegexpTokenizer\n",
    "from nltk.corpus import stopwords\n",
    "from sklearn.feature_extraction import stop_words\n",
    "from sklearn.feature_extraction.text import CountVectorizer, TfidfVectorizer\n",
    "from nltk.tokenize import RegexpTokenizer\n",
    "import re\n",
    "import gensim\n",
    "\n",
    "#other\n",
    "from tqdm import tqdm_notebook"
   ]
  },
  {
   "cell_type": "markdown",
   "metadata": {
    "heading_collapsed": true
   },
   "source": [
    "# Formatting X"
   ]
  },
  {
   "cell_type": "code",
   "execution_count": 170,
   "metadata": {
    "ExecuteTime": {
     "end_time": "2019-07-31T00:22:54.344082Z",
     "start_time": "2019-07-31T00:22:54.338629Z"
    },
    "hidden": true
   },
   "outputs": [],
   "source": [
    "files = ['@TotalTrafficMIA',\n",
    "         '@TrafficAlertSFL', '@nbc6', '@CBSMiami', '@wsvn', '@MiamiHerald', '@SunSentinel', '@miaminewsnow',\n",
    "         '@BeachNewsAlerts', '@WPLGLocal10', \n",
    "       '@MiamiBeachPD', '@miamibeachnews', '@FLTurnpikeSFL']"
   ]
  },
  {
   "cell_type": "code",
   "execution_count": 65,
   "metadata": {
    "ExecuteTime": {
     "end_time": "2019-07-30T20:35:04.136007Z",
     "start_time": "2019-07-30T20:34:22.806317Z"
    },
    "hidden": true
   },
   "outputs": [
    {
     "data": {
      "application/vnd.jupyter.widget-view+json": {
       "model_id": "722615cc3c6a4e16823fdba3041416b6",
       "version_major": 2,
       "version_minor": 0
      },
      "text/plain": [
       "HBox(children=(IntProgress(value=0, max=13), HTML(value='')))"
      ]
     },
     "metadata": {},
     "output_type": "display_data"
    }
   ],
   "source": [
    "datum = []\n",
    "\n",
    "for filename in tqdm_notebook(files):\n",
    "    data = pd.read_csv(f'Datasets/siteloop_{filename}.csv')\n",
    "    data.drop(columns=['User','User_ID','Geo'], inplace = True)\n",
    "    data['Date'] = pd.to_datetime(data['Date'])\n",
    "    data['Date'] = data.assign(Date=data['Date'].dt.round('H'))['Date']\n",
    "    times = []\n",
    "    times.append(data['Date'][0])\n",
    "\n",
    "    for i in data.index:\n",
    "        time = data['Date'][i]\n",
    "        if time != times[len(times)-1]:\n",
    "            times.append(time)\n",
    "\n",
    "    dic = {'time': [], f'{filename}': []}\n",
    "\n",
    "    for hour in times:\n",
    "        total = ''\n",
    "        tweets = list(data[data['Date'] == hour]['Tweet'])\n",
    "        for twit in tweets:\n",
    "            total += str(twit)\n",
    "        dic['time'].append(hour)\n",
    "        dic[f'{filename}'].append(total)\n",
    "    exec(f'data_{filename[1:]} = pd.DataFrame.from_dict(dic)')\n",
    "    \n",
    "    exec(f'data_{filename[1:]}.set_index(\"time\", inplace=True)')\n",
    "    exec(f'data_{filename[1:]}.sort_index(inplace=True)')\n",
    "    \n",
    "    exec(f'datum.append(data_{filename[1:]})')\n",
    "df = pd.concat(datum, axis=1)\n",
    "df.fillna('', inplace=True)"
   ]
  },
  {
   "cell_type": "code",
   "execution_count": 77,
   "metadata": {
    "ExecuteTime": {
     "end_time": "2019-07-30T20:48:15.878295Z",
     "start_time": "2019-07-30T20:48:15.857462Z"
    },
    "hidden": true
   },
   "outputs": [],
   "source": [
    "df['ALL'] = df['@TotalTrafficMIA'] + df['@TrafficAlertSFL'] + df['@nbc6'] + df['@CBSMiami'] + df['@wsvn'] +\\\n",
    "            df['@MiamiHerald'] +  df['@SunSentinel'] + df['@miaminewsnow'] + df['@BeachNewsAlerts'] + df['@WPLGLocal10'] +\\\n",
    "            df['@MiamiBeachPD'] + df['@miamibeachnews'] + df['@FLTurnpikeSFL']"
   ]
  },
  {
   "cell_type": "markdown",
   "metadata": {
    "heading_collapsed": true
   },
   "source": [
    "# Format X attempt 2"
   ]
  },
  {
   "cell_type": "code",
   "execution_count": null,
   "metadata": {
    "hidden": true
   },
   "outputs": [],
   "source": [
    "files = ['@TotalTrafficMIA', '@TrafficAlertSFL', '@nbc6', '@CBSMiami', '@wsvn', '@MiamiHerald', '@SunSentinel', \n",
    "        '@WPLGLocal10', '@miaminewsnow', '@BeachNewsAlerts', '@FLTurnpikeSFL', '@breakingnewsmia',\n",
    "       '@MiamiBeachPD', '@miamibeachnews']"
   ]
  },
  {
   "cell_type": "code",
   "execution_count": 213,
   "metadata": {
    "ExecuteTime": {
     "end_time": "2019-07-31T05:45:44.257372Z",
     "start_time": "2019-07-31T05:43:02.801065Z"
    },
    "hidden": true
   },
   "outputs": [
    {
     "data": {
      "application/vnd.jupyter.widget-view+json": {
       "model_id": "855666721fc34251b11e8d057d5dc8cc",
       "version_major": 2,
       "version_minor": 0
      },
      "text/plain": [
       "HBox(children=(IntProgress(value=0, max=13), HTML(value='')))"
      ]
     },
     "metadata": {},
     "output_type": "display_data"
    }
   ],
   "source": [
    "datum = []\n",
    "\n",
    "for filename in tqdm_notebook(files):\n",
    "    data = pd.read_csv(f'Datasets/siteloop_{filename}.csv')\n",
    "    data.drop(columns=['User','User_ID','Geo'], inplace = True)\n",
    "    data['Date'] = pd.to_datetime(data['Date'])\n",
    "    data['Date'] = data.assign(Date=data['Date'].dt.round('T'))['Date']\n",
    "    times = []\n",
    "    times.append(data['Date'][0])\n",
    "\n",
    "    for i in data.index:\n",
    "        time = data['Date'][i]\n",
    "        if time != times[len(times)-1]:\n",
    "            times.append(time)\n",
    "\n",
    "    dic = {'time': [], f'{filename}': []}\n",
    "\n",
    "    for hour in times:\n",
    "        total = ''\n",
    "        tweets = list(data[data['Date'] == hour]['Tweet'])\n",
    "        for twit in tweets:\n",
    "            total += str(twit)\n",
    "        dic['time'].append(hour)\n",
    "        dic[f'{filename}'].append(total)\n",
    "    exec(f'data_{filename[1:]} = pd.DataFrame.from_dict(dic)')\n",
    "    \n",
    "    exec(f'data_{filename[1:]}.set_index(\"time\", inplace=True)')\n",
    "    exec(f'data_{filename[1:]}.sort_index(inplace=True)')\n",
    "    \n",
    "    exec(f'datum.append(data_{filename[1:]})')\n",
    "df = pd.concat(datum, axis=1)\n",
    "df.fillna('', inplace=True)"
   ]
  },
  {
   "cell_type": "code",
   "execution_count": 215,
   "metadata": {
    "ExecuteTime": {
     "end_time": "2019-07-31T05:46:26.865381Z",
     "start_time": "2019-07-31T05:46:26.709950Z"
    },
    "hidden": true,
    "scrolled": false
   },
   "outputs": [],
   "source": [
    "df['ALL'] = df['@TotalTrafficMIA'] + df['@TrafficAlertSFL'] + df['@nbc6'] + df['@CBSMiami'] + df['@wsvn'] +\\\n",
    "            df['@MiamiHerald'] +  df['@SunSentinel'] + df['@miaminewsnow'] + df['@BeachNewsAlerts'] + df['@WPLGLocal10'] +\\\n",
    "            df['@MiamiBeachPD'] + df['@miamibeachnews'] + df['@FLTurnpikeSFL']"
   ]
  },
  {
   "cell_type": "code",
   "execution_count": 234,
   "metadata": {
    "ExecuteTime": {
     "end_time": "2019-07-31T06:10:06.618113Z",
     "start_time": "2019-07-31T06:10:06.589761Z"
    },
    "hidden": true
   },
   "outputs": [
    {
     "data": {
      "text/html": [
       "<div>\n",
       "<style scoped>\n",
       "    .dataframe tbody tr th:only-of-type {\n",
       "        vertical-align: middle;\n",
       "    }\n",
       "\n",
       "    .dataframe tbody tr th {\n",
       "        vertical-align: top;\n",
       "    }\n",
       "\n",
       "    .dataframe thead th {\n",
       "        text-align: right;\n",
       "    }\n",
       "</style>\n",
       "<table border=\"1\" class=\"dataframe\">\n",
       "  <thead>\n",
       "    <tr style=\"text-align: right;\">\n",
       "      <th></th>\n",
       "      <th>@TotalTrafficMIA</th>\n",
       "      <th>@TrafficAlertSFL</th>\n",
       "      <th>@nbc6</th>\n",
       "      <th>@CBSMiami</th>\n",
       "      <th>@wsvn</th>\n",
       "      <th>@MiamiHerald</th>\n",
       "      <th>@SunSentinel</th>\n",
       "      <th>@miaminewsnow</th>\n",
       "      <th>@BeachNewsAlerts</th>\n",
       "      <th>@WPLGLocal10</th>\n",
       "      <th>@MiamiBeachPD</th>\n",
       "      <th>@miamibeachnews</th>\n",
       "      <th>@FLTurnpikeSFL</th>\n",
       "      <th>ALL</th>\n",
       "    </tr>\n",
       "    <tr>\n",
       "      <th>time</th>\n",
       "      <th></th>\n",
       "      <th></th>\n",
       "      <th></th>\n",
       "      <th></th>\n",
       "      <th></th>\n",
       "      <th></th>\n",
       "      <th></th>\n",
       "      <th></th>\n",
       "      <th></th>\n",
       "      <th></th>\n",
       "      <th></th>\n",
       "      <th></th>\n",
       "      <th></th>\n",
       "      <th></th>\n",
       "    </tr>\n",
       "  </thead>\n",
       "  <tbody>\n",
       "    <tr>\n",
       "      <th>2019-01-01 00:02:00+00:00</th>\n",
       "      <td></td>\n",
       "      <td></td>\n",
       "      <td></td>\n",
       "      <td></td>\n",
       "      <td></td>\n",
       "      <td></td>\n",
       "      <td>Videos show staff of now-shuttered Arizona she...</td>\n",
       "      <td></td>\n",
       "      <td></td>\n",
       "      <td></td>\n",
       "      <td></td>\n",
       "      <td></td>\n",
       "      <td></td>\n",
       "      <td>Videos show staff of now-shuttered Arizona she...</td>\n",
       "    </tr>\n",
       "    <tr>\n",
       "      <th>2019-01-01 00:07:00+00:00</th>\n",
       "      <td></td>\n",
       "      <td></td>\n",
       "      <td></td>\n",
       "      <td></td>\n",
       "      <td></td>\n",
       "      <td></td>\n",
       "      <td>UM's Manny Diaz fires Hurricanes' offensive st...</td>\n",
       "      <td></td>\n",
       "      <td></td>\n",
       "      <td></td>\n",
       "      <td></td>\n",
       "      <td></td>\n",
       "      <td></td>\n",
       "      <td>UM's Manny Diaz fires Hurricanes' offensive st...</td>\n",
       "    </tr>\n",
       "    <tr>\n",
       "      <th>2019-01-01 00:35:00+00:00</th>\n",
       "      <td></td>\n",
       "      <td></td>\n",
       "      <td></td>\n",
       "      <td></td>\n",
       "      <td></td>\n",
       "      <td></td>\n",
       "      <td>Hurricanes linebacker Michael Pinckney returni...</td>\n",
       "      <td></td>\n",
       "      <td></td>\n",
       "      <td></td>\n",
       "      <td></td>\n",
       "      <td></td>\n",
       "      <td></td>\n",
       "      <td>Hurricanes linebacker Michael Pinckney returni...</td>\n",
       "    </tr>\n",
       "    <tr>\n",
       "      <th>2019-01-01 00:44:00+00:00</th>\n",
       "      <td></td>\n",
       "      <td></td>\n",
       "      <td>Before the party animals come out for tonight'...</td>\n",
       "      <td></td>\n",
       "      <td></td>\n",
       "      <td></td>\n",
       "      <td></td>\n",
       "      <td></td>\n",
       "      <td></td>\n",
       "      <td></td>\n",
       "      <td></td>\n",
       "      <td></td>\n",
       "      <td></td>\n",
       "      <td>Before the party animals come out for tonight'...</td>\n",
       "    </tr>\n",
       "    <tr>\n",
       "      <th>2019-01-01 00:47:00+00:00</th>\n",
       "      <td>Police activity; off-ramp 2 right lanes blocke...</td>\n",
       "      <td></td>\n",
       "      <td></td>\n",
       "      <td></td>\n",
       "      <td></td>\n",
       "      <td></td>\n",
       "      <td></td>\n",
       "      <td></td>\n",
       "      <td></td>\n",
       "      <td></td>\n",
       "      <td></td>\n",
       "      <td></td>\n",
       "      <td></td>\n",
       "      <td>Police activity; off-ramp 2 right lanes blocke...</td>\n",
       "    </tr>\n",
       "  </tbody>\n",
       "</table>\n",
       "</div>"
      ],
      "text/plain": [
       "                                                            @TotalTrafficMIA  \\\n",
       "time                                                                           \n",
       "2019-01-01 00:02:00+00:00                                                      \n",
       "2019-01-01 00:07:00+00:00                                                      \n",
       "2019-01-01 00:35:00+00:00                                                      \n",
       "2019-01-01 00:44:00+00:00                                                      \n",
       "2019-01-01 00:47:00+00:00  Police activity; off-ramp 2 right lanes blocke...   \n",
       "\n",
       "                          @TrafficAlertSFL  \\\n",
       "time                                         \n",
       "2019-01-01 00:02:00+00:00                    \n",
       "2019-01-01 00:07:00+00:00                    \n",
       "2019-01-01 00:35:00+00:00                    \n",
       "2019-01-01 00:44:00+00:00                    \n",
       "2019-01-01 00:47:00+00:00                    \n",
       "\n",
       "                                                                       @nbc6  \\\n",
       "time                                                                           \n",
       "2019-01-01 00:02:00+00:00                                                      \n",
       "2019-01-01 00:07:00+00:00                                                      \n",
       "2019-01-01 00:35:00+00:00                                                      \n",
       "2019-01-01 00:44:00+00:00  Before the party animals come out for tonight'...   \n",
       "2019-01-01 00:47:00+00:00                                                      \n",
       "\n",
       "                          @CBSMiami @wsvn @MiamiHerald  \\\n",
       "time                                                     \n",
       "2019-01-01 00:02:00+00:00                                \n",
       "2019-01-01 00:07:00+00:00                                \n",
       "2019-01-01 00:35:00+00:00                                \n",
       "2019-01-01 00:44:00+00:00                                \n",
       "2019-01-01 00:47:00+00:00                                \n",
       "\n",
       "                                                                @SunSentinel  \\\n",
       "time                                                                           \n",
       "2019-01-01 00:02:00+00:00  Videos show staff of now-shuttered Arizona she...   \n",
       "2019-01-01 00:07:00+00:00  UM's Manny Diaz fires Hurricanes' offensive st...   \n",
       "2019-01-01 00:35:00+00:00  Hurricanes linebacker Michael Pinckney returni...   \n",
       "2019-01-01 00:44:00+00:00                                                      \n",
       "2019-01-01 00:47:00+00:00                                                      \n",
       "\n",
       "                          @miaminewsnow @BeachNewsAlerts @WPLGLocal10  \\\n",
       "time                                                                    \n",
       "2019-01-01 00:02:00+00:00                                               \n",
       "2019-01-01 00:07:00+00:00                                               \n",
       "2019-01-01 00:35:00+00:00                                               \n",
       "2019-01-01 00:44:00+00:00                                               \n",
       "2019-01-01 00:47:00+00:00                                               \n",
       "\n",
       "                          @MiamiBeachPD @miamibeachnews @FLTurnpikeSFL  \\\n",
       "time                                                                     \n",
       "2019-01-01 00:02:00+00:00                                                \n",
       "2019-01-01 00:07:00+00:00                                                \n",
       "2019-01-01 00:35:00+00:00                                                \n",
       "2019-01-01 00:44:00+00:00                                                \n",
       "2019-01-01 00:47:00+00:00                                                \n",
       "\n",
       "                                                                         ALL  \n",
       "time                                                                          \n",
       "2019-01-01 00:02:00+00:00  Videos show staff of now-shuttered Arizona she...  \n",
       "2019-01-01 00:07:00+00:00  UM's Manny Diaz fires Hurricanes' offensive st...  \n",
       "2019-01-01 00:35:00+00:00  Hurricanes linebacker Michael Pinckney returni...  \n",
       "2019-01-01 00:44:00+00:00  Before the party animals come out for tonight'...  \n",
       "2019-01-01 00:47:00+00:00  Police activity; off-ramp 2 right lanes blocke...  "
      ]
     },
     "execution_count": 234,
     "metadata": {},
     "output_type": "execute_result"
    }
   ],
   "source": [
    "df.head()"
   ]
  },
  {
   "cell_type": "code",
   "execution_count": 239,
   "metadata": {
    "ExecuteTime": {
     "end_time": "2019-07-31T06:11:37.884796Z",
     "start_time": "2019-07-31T06:11:37.875475Z"
    },
    "hidden": true
   },
   "outputs": [
    {
     "data": {
      "text/plain": [
       "True"
      ]
     },
     "execution_count": 239,
     "metadata": {},
     "output_type": "execute_result"
    }
   ],
   "source": [
    "(df.index[0] + pd.DateOffset(hours = 2) > df.index[j]) and (df.index[0] < df.index[j])"
   ]
  },
  {
   "cell_type": "markdown",
   "metadata": {},
   "source": [
    "# X All"
   ]
  },
  {
   "cell_type": "code",
   "execution_count": 324,
   "metadata": {
    "ExecuteTime": {
     "end_time": "2019-07-31T16:38:46.027904Z",
     "start_time": "2019-07-31T16:38:46.023884Z"
    }
   },
   "outputs": [],
   "source": [
    "files = ['2019-07-30','2019-07-29','2019-07-28',\n",
    "        '2019-07-27', '2019-07-26', '2019-07-25',\n",
    "        '2019-07-24', '2019-07-23']"
   ]
  },
  {
   "cell_type": "code",
   "execution_count": null,
   "metadata": {
    "ExecuteTime": {
     "start_time": "2019-07-31T16:48:58.174Z"
    }
   },
   "outputs": [
    {
     "data": {
      "application/vnd.jupyter.widget-view+json": {
       "model_id": "731f2937fdc147b5b542715db256660d",
       "version_major": 2,
       "version_minor": 0
      },
      "text/plain": [
       "HBox(children=(IntProgress(value=0, max=8), HTML(value='')))"
      ]
     },
     "metadata": {},
     "output_type": "display_data"
    }
   ],
   "source": [
    "datum = []\n",
    "\n",
    "for filename in tqdm_notebook(files):\n",
    "    data = pd.read_csv(f'Datasets/timeloop_{filename}.csv')\n",
    "    data.drop(columns=['User','User_ID','Geo'], inplace = True)\n",
    "    data['Date'] = pd.to_datetime(data['Date'])\n",
    "    data['Date'] = data.assign(Date=data['Date'].dt.round('T'))['Date']\n",
    "    times = []\n",
    "    times.append(data['Date'][0])\n",
    "\n",
    "    for i in data.index:\n",
    "        time = data['Date'][i]\n",
    "        if time != times[len(times)-1]:\n",
    "            times.append(time)\n",
    "\n",
    "    dic = {'time': [], f'Tweet': []}\n",
    "\n",
    "    for hour in times:\n",
    "        total = ''\n",
    "        tweets = list(data[data['Date'] == hour]['Tweet'])\n",
    "        for twit in tweets:\n",
    "            total += str(twit)\n",
    "        dic['time'].append(hour)\n",
    "        dic['Tweet'].append(total)\n",
    "    exec(f'data_{filename[8:]} = pd.DataFrame.from_dict(dic)')\n",
    "    \n",
    "    exec(f'data_{filename[8:]}.set_index(\"time\", inplace=True)')\n",
    "    exec(f'data_{filename[8:]}.sort_index(inplace=True)')\n",
    "    \n",
    "    exec(f'datum.append(data_{filename[8:]})')\n",
    "df = pd.concat(datum, axis=0)\n",
    "df.fillna('', inplace=True)"
   ]
  },
  {
   "cell_type": "markdown",
   "metadata": {
    "heading_collapsed": true
   },
   "source": [
    "# Format Y"
   ]
  },
  {
   "cell_type": "code",
   "execution_count": 164,
   "metadata": {
    "ExecuteTime": {
     "end_time": "2019-07-30T23:49:49.297106Z",
     "start_time": "2019-07-30T23:49:49.292138Z"
    },
    "hidden": true
   },
   "outputs": [],
   "source": [
    "streets = ['I-95', '95 Express', 'I-195', 'SR-826', 'SR-836', 'US-1',\n",
    "           'US-41', 'I-75', 'US-441', 'SR-821', 'SR-9',\n",
    "           'SR-997', 'SR-AIA']"
   ]
  },
  {
   "cell_type": "code",
   "execution_count": 246,
   "metadata": {
    "ExecuteTime": {
     "end_time": "2019-07-31T06:20:06.285596Z",
     "start_time": "2019-07-31T06:20:06.052239Z"
    },
    "hidden": true
   },
   "outputs": [],
   "source": [
    "data_y = pd.read_csv('Datasets/siteloop_@fl511_southeast.csv')\n",
    "data_y.drop(columns=['User','User_ID','Geo', 'HashTag'], inplace = True)\n",
    "data_y['Date'] = pd.to_datetime(data['Date'])\n"
   ]
  },
  {
   "cell_type": "code",
   "execution_count": 321,
   "metadata": {
    "ExecuteTime": {
     "end_time": "2019-07-31T16:34:56.993840Z",
     "start_time": "2019-07-31T16:34:33.993268Z"
    },
    "hidden": true
   },
   "outputs": [
    {
     "data": {
      "application/vnd.jupyter.widget-view+json": {
       "model_id": "ce0d740bdeee4eff8934ebcca9c32927",
       "version_major": 2,
       "version_minor": 0
      },
      "text/plain": [
       "HBox(children=(IntProgress(value=0, max=13), HTML(value='')))"
      ]
     },
     "metadata": {},
     "output_type": "display_data"
    }
   ],
   "source": [
    "for street in tqdm_notebook(streets):\n",
    "    road = pd.Series(index=data_y.index)\n",
    "    for i in data_y.index:\n",
    "        val = 0\n",
    "        if (street in data_y['Tweet'][i]) and ('Cleared' in data_y['Tweet'][i]): \n",
    "            val = 1\n",
    "        elif (street in data_y['Tweet'][i]) and ('lanes blocked' in data_y['Tweet'][i]): \n",
    "            val = 2\n",
    "        elif (street in data_y['Tweet'][i]) and ('lane blocked' in data_y['Tweet'][i]): \n",
    "            val = 3\n",
    "        elif (street in data_y['Tweet'][i]) and (('traffic' in data_y['Tweet'][i]) or ('closed' in data['Tweet'][i])):\n",
    "            val = 4\n",
    "        road[i] = val\n",
    "    data_y[street] = road"
   ]
  },
  {
   "cell_type": "markdown",
   "metadata": {},
   "source": [
    "# Aggregate columns"
   ]
  },
  {
   "cell_type": "code",
   "execution_count": 332,
   "metadata": {
    "ExecuteTime": {
     "end_time": "2019-07-31T16:46:47.758116Z",
     "start_time": "2019-07-31T16:46:47.744724Z"
    }
   },
   "outputs": [
    {
     "data": {
      "text/html": [
       "<div>\n",
       "<style scoped>\n",
       "    .dataframe tbody tr th:only-of-type {\n",
       "        vertical-align: middle;\n",
       "    }\n",
       "\n",
       "    .dataframe tbody tr th {\n",
       "        vertical-align: top;\n",
       "    }\n",
       "\n",
       "    .dataframe thead th {\n",
       "        text-align: right;\n",
       "    }\n",
       "</style>\n",
       "<table border=\"1\" class=\"dataframe\">\n",
       "  <thead>\n",
       "    <tr style=\"text-align: right;\">\n",
       "      <th></th>\n",
       "      <th>2019-07-30</th>\n",
       "      <th>2019-07-29</th>\n",
       "      <th>2019-07-28</th>\n",
       "      <th>2019-07-27</th>\n",
       "      <th>2019-07-26</th>\n",
       "      <th>2019-07-25</th>\n",
       "      <th>2019-07-24</th>\n",
       "      <th>2019-07-23</th>\n",
       "    </tr>\n",
       "    <tr>\n",
       "      <th>time</th>\n",
       "      <th></th>\n",
       "      <th></th>\n",
       "      <th></th>\n",
       "      <th></th>\n",
       "      <th></th>\n",
       "      <th></th>\n",
       "      <th></th>\n",
       "      <th></th>\n",
       "    </tr>\n",
       "  </thead>\n",
       "  <tbody>\n",
       "    <tr>\n",
       "      <th>2019-07-22 10:30:00+00:00</th>\n",
       "      <td></td>\n",
       "      <td></td>\n",
       "      <td></td>\n",
       "      <td></td>\n",
       "      <td></td>\n",
       "      <td></td>\n",
       "      <td></td>\n",
       "      <td>Baja presión se aproxima a la Florida con 20% ...</td>\n",
       "    </tr>\n",
       "  </tbody>\n",
       "</table>\n",
       "</div>"
      ],
      "text/plain": [
       "                          2019-07-30 2019-07-29 2019-07-28 2019-07-27  \\\n",
       "time                                                                    \n",
       "2019-07-22 10:30:00+00:00                                               \n",
       "\n",
       "                          2019-07-26 2019-07-25 2019-07-24  \\\n",
       "time                                                         \n",
       "2019-07-22 10:30:00+00:00                                    \n",
       "\n",
       "                                                                  2019-07-23  \n",
       "time                                                                          \n",
       "2019-07-22 10:30:00+00:00  Baja presión se aproxima a la Florida con 20% ...  "
      ]
     },
     "execution_count": 332,
     "metadata": {},
     "output_type": "execute_result"
    }
   ],
   "source": [
    "df.head(1)"
   ]
  },
  {
   "cell_type": "code",
   "execution_count": 249,
   "metadata": {
    "ExecuteTime": {
     "end_time": "2019-07-31T06:22:28.689130Z",
     "start_time": "2019-07-31T06:22:28.660982Z"
    }
   },
   "outputs": [
    {
     "data": {
      "text/html": [
       "<div>\n",
       "<style scoped>\n",
       "    .dataframe tbody tr th:only-of-type {\n",
       "        vertical-align: middle;\n",
       "    }\n",
       "\n",
       "    .dataframe tbody tr th {\n",
       "        vertical-align: top;\n",
       "    }\n",
       "\n",
       "    .dataframe thead th {\n",
       "        text-align: right;\n",
       "    }\n",
       "</style>\n",
       "<table border=\"1\" class=\"dataframe\">\n",
       "  <thead>\n",
       "    <tr style=\"text-align: right;\">\n",
       "      <th></th>\n",
       "      <th>Tweet</th>\n",
       "      <th>Date</th>\n",
       "      <th>I-95</th>\n",
       "      <th>95 Express</th>\n",
       "      <th>I-195</th>\n",
       "      <th>SR-826</th>\n",
       "      <th>SR-836</th>\n",
       "      <th>US-1</th>\n",
       "      <th>US-41</th>\n",
       "      <th>I-75</th>\n",
       "      <th>US-441</th>\n",
       "      <th>SR-821</th>\n",
       "      <th>SR-9</th>\n",
       "      <th>SR-997</th>\n",
       "      <th>SR-AIA</th>\n",
       "    </tr>\n",
       "  </thead>\n",
       "  <tbody>\n",
       "    <tr>\n",
       "      <th>0</th>\n",
       "      <td>Cleared: Disabled vehicle in Miami-Dade on SR-...</td>\n",
       "      <td>2019-07-30 17:34:12+00:00</td>\n",
       "      <td>0.0</td>\n",
       "      <td>0.0</td>\n",
       "      <td>0.0</td>\n",
       "      <td>1.0</td>\n",
       "      <td>0.0</td>\n",
       "      <td>0.0</td>\n",
       "      <td>0.0</td>\n",
       "      <td>0.0</td>\n",
       "      <td>0.0</td>\n",
       "      <td>0.0</td>\n",
       "      <td>0.0</td>\n",
       "      <td>0.0</td>\n",
       "      <td>0.0</td>\n",
       "    </tr>\n",
       "  </tbody>\n",
       "</table>\n",
       "</div>"
      ],
      "text/plain": [
       "                                               Tweet  \\\n",
       "0  Cleared: Disabled vehicle in Miami-Dade on SR-...   \n",
       "\n",
       "                       Date  I-95  95 Express  I-195  SR-826  SR-836  US-1  \\\n",
       "0 2019-07-30 17:34:12+00:00   0.0         0.0    0.0     1.0     0.0   0.0   \n",
       "\n",
       "   US-41  I-75  US-441  SR-821  SR-9  SR-997  SR-AIA  \n",
       "0    0.0   0.0     0.0     0.0   0.0     0.0     0.0  "
      ]
     },
     "execution_count": 249,
     "metadata": {},
     "output_type": "execute_result"
    }
   ],
   "source": [
    "data_y.head(1)"
   ]
  },
  {
   "cell_type": "code",
   "execution_count": 306,
   "metadata": {
    "ExecuteTime": {
     "end_time": "2019-07-31T16:26:20.655479Z",
     "start_time": "2019-07-31T16:08:11.697440Z"
    }
   },
   "outputs": [
    {
     "data": {
      "application/vnd.jupyter.widget-view+json": {
       "model_id": "a6277c676d4b41318beca4e8ac646c9d",
       "version_major": 2,
       "version_minor": 0
      },
      "text/plain": [
       "HBox(children=(IntProgress(value=0, max=22590), HTML(value='')))"
      ]
     },
     "metadata": {},
     "output_type": "display_data"
    }
   ],
   "source": [
    "agg_col = pd.Series(index=data_y.index)\n",
    "for i in tqdm_notebook(data_y.index):\n",
    "    agg_tweets = ''\n",
    "    \n",
    "    min_before = []\n",
    "    \n",
    "    for q in range(1,91):\n",
    "        time = data_y['Date'][i].floor(freq='T') - pd.DateOffset(minutes=q)\n",
    "        min_before.append(time)\n",
    "        \n",
    "    for j in min_before:\n",
    "        try:\n",
    "            agg_tweets += df['ALL'][j]\n",
    "        except:\n",
    "            pass\n",
    "    \n",
    "    agg_col[i] = agg_tweets\n",
    "data_y['Aggregate'] = agg_col"
   ]
  },
  {
   "cell_type": "code",
   "execution_count": 303,
   "metadata": {
    "ExecuteTime": {
     "end_time": "2019-07-31T16:07:49.173216Z",
     "start_time": "2019-07-31T16:05:36.871051Z"
    }
   },
   "outputs": [
    {
     "data": {
      "application/vnd.jupyter.widget-view+json": {
       "model_id": "6b8fea3a6ef346b6973825ab30c77514",
       "version_major": 2,
       "version_minor": 0
      },
      "text/plain": [
       "HBox(children=(IntProgress(value=0, max=34888), HTML(value='')))"
      ]
     },
     "metadata": {},
     "output_type": "display_data"
    }
   ],
   "source": [
    "for i in tqdm_notebook(data_y.index):\n",
    "    if (data_y['I-95'][i] == 0) and (data_y['95 Express'][i] == 0) and (data_y['I-195'][i] == 0) and (data_y['SR-826'][i] == 0) and \\\n",
    "    (data_y['SR-836'][i] == 0) and (data_y['US-1'][i] == 0) and (data_y['US-41'][i] == 0) and (data_y['I-75'][i] == 0) and \\\n",
    "    (data_y['US-441'][i] == 0) and (data_y['SR-821'][i] == 0) and (data_y['SR-9'][i] == 0) and (data_y['SR-997'][i] == 0) and (data_y['SR-AIA'][i] == 0):\n",
    "        data_y.drop(axis = 0, index = i, inplace=True)"
   ]
  },
  {
   "cell_type": "code",
   "execution_count": 316,
   "metadata": {
    "ExecuteTime": {
     "end_time": "2019-07-31T16:31:03.922345Z",
     "start_time": "2019-07-31T16:31:03.894072Z"
    }
   },
   "outputs": [],
   "source": [
    "X = data_y['Aggregate']\n",
    "y = data_y['SR-826']\n",
    "X_train, X_test, y_train, y_test = train_test_split(X, y, stratify=y, random_state=42)"
   ]
  },
  {
   "cell_type": "code",
   "execution_count": 308,
   "metadata": {
    "ExecuteTime": {
     "end_time": "2019-07-31T16:26:26.670786Z",
     "start_time": "2019-07-31T16:26:26.663347Z"
    }
   },
   "outputs": [],
   "source": [
    "pipe = Pipeline([\n",
    "    ('vec', TfidfVectorizer(token_pattern='[a-zA-z]+ | [A-Za-z]+\\-*\\d+\\W(?:[sS]outh|[Nn]orth|East|West|[NSEW]{1,2}|[nswe]{1,2})*')),\n",
    "    ('nb', MultinomialNB())\n",
    "])\n",
    "pipe_params = {\n",
    "    'vec__stop_words': ['english'],\n",
    "    'vec__max_features': [5000],\n",
    "    'vec__min_df': [1],\n",
    "    'vec__max_df': [.9],\n",
    "    'vec__ngram_range': [(1,2)],\n",
    "    'nb__alpha': [1]\n",
    "}"
   ]
  },
  {
   "cell_type": "code",
   "execution_count": 317,
   "metadata": {
    "ExecuteTime": {
     "end_time": "2019-07-31T16:32:23.129928Z",
     "start_time": "2019-07-31T16:31:06.512101Z"
    }
   },
   "outputs": [
    {
     "name": "stdout",
     "output_type": "stream",
     "text": [
      "cvs: 0.8113563923975918\n",
      "train score: 0.8127139652933538\n",
      "test score: 0.8126770538243626\n"
     ]
    }
   ],
   "source": [
    "gs = GridSearchCV(pipe, param_grid=pipe_params, cv=3)\n",
    "gs.fit(X_train, y_train)\n",
    "print('cvs:', gs.best_score_)\n",
    "print('train score:', gs.score(X_train, y_train))\n",
    "print('test score:', gs.score(X_test, y_test))"
   ]
  },
  {
   "cell_type": "code",
   "execution_count": 315,
   "metadata": {
    "ExecuteTime": {
     "end_time": "2019-07-31T16:30:52.597054Z",
     "start_time": "2019-07-31T16:30:52.587629Z"
    }
   },
   "outputs": [
    {
     "data": {
      "text/plain": [
       "0.0    0.812174\n",
       "1.0    0.187826\n",
       "Name: SR-826, dtype: float64"
      ]
     },
     "execution_count": 315,
     "metadata": {},
     "output_type": "execute_result"
    }
   ],
   "source": [
    "data_y['SR-826'].value_counts(normalize=True)"
   ]
  }
 ],
 "metadata": {
  "hide_input": false,
  "kernelspec": {
   "display_name": "Python 3",
   "language": "python",
   "name": "python3"
  },
  "language_info": {
   "codemirror_mode": {
    "name": "ipython",
    "version": 3
   },
   "file_extension": ".py",
   "mimetype": "text/x-python",
   "name": "python",
   "nbconvert_exporter": "python",
   "pygments_lexer": "ipython3",
   "version": "3.6.8"
  },
  "toc": {
   "base_numbering": 1,
   "nav_menu": {},
   "number_sections": true,
   "sideBar": true,
   "skip_h1_title": false,
   "title_cell": "Table of Contents",
   "title_sidebar": "Contents",
   "toc_cell": false,
   "toc_position": {},
   "toc_section_display": true,
   "toc_window_display": false
  },
  "varInspector": {
   "cols": {
    "lenName": 16,
    "lenType": 16,
    "lenVar": 40
   },
   "kernels_config": {
    "python": {
     "delete_cmd_postfix": "",
     "delete_cmd_prefix": "del ",
     "library": "var_list.py",
     "varRefreshCmd": "print(var_dic_list())"
    },
    "r": {
     "delete_cmd_postfix": ") ",
     "delete_cmd_prefix": "rm(",
     "library": "var_list.r",
     "varRefreshCmd": "cat(var_dic_list()) "
    }
   },
   "oldHeight": 416.08000000000004,
   "position": {
    "height": "40px",
    "left": "909.44px",
    "right": "20px",
    "top": "64px",
    "width": "309.36px"
   },
   "types_to_exclude": [
    "module",
    "function",
    "builtin_function_or_method",
    "instance",
    "_Feature"
   ],
   "varInspector_section_display": "none",
   "window_display": true
  }
 },
 "nbformat": 4,
 "nbformat_minor": 2
}
