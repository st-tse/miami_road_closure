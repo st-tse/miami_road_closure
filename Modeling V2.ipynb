{
 "cells": [
  {
   "cell_type": "markdown",
   "metadata": {},
   "source": [
    "# Imports"
   ]
  },
  {
   "cell_type": "code",
   "execution_count": 4,
   "metadata": {
    "ExecuteTime": {
     "end_time": "2019-07-30T20:05:24.664535Z",
     "start_time": "2019-07-30T20:05:19.499252Z"
    }
   },
   "outputs": [
    {
     "name": "stderr",
     "output_type": "stream",
     "text": [
      "C:\\Users\\steph\\Anaconda3\\lib\\site-packages\\smart_open\\ssh.py:34: UserWarning: paramiko missing, opening SSH/SCP/SFTP paths will be disabled.  `pip install paramiko` to suppress\n",
      "  warnings.warn('paramiko missing, opening SSH/SCP/SFTP paths will be disabled.  `pip install paramiko` to suppress')\n"
     ]
    }
   ],
   "source": [
    "#data stuff\n",
    "import pandas as pd\n",
    "\n",
    "#Modelling\n",
    "from sklearn.pipeline import Pipeline\n",
    "from sklearn.model_selection import train_test_split, GridSearchCV, cross_val_score\n",
    "from sklearn.linear_model import LogisticRegression\n",
    "from sklearn.neighbors import KNeighborsClassifier\n",
    "from sklearn.naive_bayes import MultinomialNB, GaussianNB\n",
    "from sklearn.feature_extraction import text\n",
    "\n",
    "#NLP\n",
    "import nltk\n",
    "from nltk.stem import WordNetLemmatizer\n",
    "from nltk.tokenize import RegexpTokenizer\n",
    "from nltk.corpus import stopwords\n",
    "from sklearn.feature_extraction import stop_words\n",
    "from sklearn.feature_extraction.text import CountVectorizer, TfidfVectorizer\n",
    "from nltk.tokenize import RegexpTokenizer\n",
    "import re\n",
    "import gensim\n",
    "\n",
    "#other\n",
    "from tqdm import tqdm_notebook"
   ]
  },
  {
   "cell_type": "markdown",
   "metadata": {},
   "source": [
    "# Formatting X"
   ]
  },
  {
   "cell_type": "code",
   "execution_count": 41,
   "metadata": {
    "ExecuteTime": {
     "end_time": "2019-07-30T20:23:56.039432Z",
     "start_time": "2019-07-30T20:23:56.031001Z"
    }
   },
   "outputs": [],
   "source": [
    "files = ['@TotalTrafficMIA',\n",
    "         '@TrafficAlertSFL', '@nbc6', '@CBSMiami', '@wsvn', '@MiamiHerald', '@SunSentinel', '@miaminewsnow',\n",
    "         '@BeachNewsAlerts', '@WPLGLocal10', \n",
    "       '@MiamiBeachPD', '@miamibeachnews', '@FLTurnpikeSFL']"
   ]
  },
  {
   "cell_type": "code",
   "execution_count": 65,
   "metadata": {
    "ExecuteTime": {
     "end_time": "2019-07-30T20:35:04.136007Z",
     "start_time": "2019-07-30T20:34:22.806317Z"
    }
   },
   "outputs": [
    {
     "data": {
      "application/vnd.jupyter.widget-view+json": {
       "model_id": "722615cc3c6a4e16823fdba3041416b6",
       "version_major": 2,
       "version_minor": 0
      },
      "text/plain": [
       "HBox(children=(IntProgress(value=0, max=13), HTML(value='')))"
      ]
     },
     "metadata": {},
     "output_type": "display_data"
    }
   ],
   "source": [
    "datum = []\n",
    "\n",
    "for filename in tqdm_notebook(files):\n",
    "    data = pd.read_csv(f'Datasets/siteloop_{filename}.csv')\n",
    "    data.drop(columns=['User','User_ID','Geo'], inplace = True)\n",
    "    data['Date'] = pd.to_datetime(data['Date'])\n",
    "    data['Date'] = data.assign(Date=data['Date'].dt.round('H'))['Date']\n",
    "    times = []\n",
    "    times.append(data['Date'][0])\n",
    "\n",
    "    for i in data.index:\n",
    "        time = data['Date'][i]\n",
    "        if time != times[len(times)-1]:\n",
    "            times.append(time)\n",
    "\n",
    "    dic = {'time': [], f'{filename}': []}\n",
    "\n",
    "    for hour in times:\n",
    "        total = ''\n",
    "        tweets = list(data[data['Date'] == hour]['Tweet'])\n",
    "        for twit in tweets:\n",
    "            total += str(twit)\n",
    "        dic['time'].append(hour)\n",
    "        dic[f'{filename}'].append(total)\n",
    "    exec(f'data_{filename[1:]} = pd.DataFrame.from_dict(dic)')\n",
    "    \n",
    "    exec(f'data_{filename[1:]}.set_index(\"time\", inplace=True)')\n",
    "    exec(f'data_{filename[1:]}.sort_index(inplace=True)')\n",
    "    \n",
    "    exec(f'datum.append(data_{filename[1:]})')\n",
    "df = pd.concat(datum, axis=1)\n",
    "df.fillna('', inplace=True)"
   ]
  },
  {
   "cell_type": "code",
   "execution_count": 77,
   "metadata": {
    "ExecuteTime": {
     "end_time": "2019-07-30T20:48:15.878295Z",
     "start_time": "2019-07-30T20:48:15.857462Z"
    }
   },
   "outputs": [],
   "source": [
    "df['ALL']=  df['@TotalTrafficMIA'] + df['@TrafficAlertSFL'] + df['@nbc6'] + df['@CBSMiami'] + df['@wsvn'] +\\\n",
    "            df['@MiamiHerald'] +  df['@SunSentinel'] + df['@miaminewsnow'] + df['@BeachNewsAlerts'] + df['@WPLGLocal10'] +\\\n",
    "            df['@MiamiBeachPD'] + df['@miamibeachnews'] + df['@FLTurnpikeSFL']"
   ]
  },
  {
   "cell_type": "markdown",
   "metadata": {},
   "source": [
    "# Format Y"
   ]
  },
  {
   "cell_type": "code",
   "execution_count": 80,
   "metadata": {
    "ExecuteTime": {
     "end_time": "2019-07-30T20:50:00.173937Z",
     "start_time": "2019-07-30T20:50:00.170293Z"
    }
   },
   "outputs": [],
   "source": [
    "targets = ['@fl511_i95', '@fl511_southeast', '@fl511_95EXPRESS']"
   ]
  },
  {
   "cell_type": "code",
   "execution_count": 82,
   "metadata": {
    "ExecuteTime": {
     "end_time": "2019-07-30T20:51:39.139998Z",
     "start_time": "2019-07-30T20:50:55.626342Z"
    }
   },
   "outputs": [
    {
     "data": {
      "application/vnd.jupyter.widget-view+json": {
       "model_id": "e126200df9cf445ead5a6b51fe3a6db0",
       "version_major": 2,
       "version_minor": 0
      },
      "text/plain": [
       "HBox(children=(IntProgress(value=0, max=3), HTML(value='')))"
      ]
     },
     "metadata": {},
     "output_type": "display_data"
    }
   ],
   "source": [
    "datum = []\n",
    "\n",
    "for filename in tqdm_notebook(targets):\n",
    "    data = pd.read_csv(f'Datasets/siteloop_{filename}.csv')\n",
    "    data.drop(columns=['User','User_ID','Geo'], inplace = True)\n",
    "    data['Date'] = pd.to_datetime(data['Date'])\n",
    "    data['Date'] = data.assign(Date=data['Date'].dt.round('H'))['Date']\n",
    "    times = []\n",
    "    times.append(data['Date'][0])\n",
    "\n",
    "    for i in data.index:\n",
    "        time = data['Date'][i]\n",
    "        if time != times[len(times)-1]:\n",
    "            times.append(time)\n",
    "\n",
    "    dic = {'time': [], f'{filename}': []}\n",
    "\n",
    "    for hour in times:\n",
    "        total = ''\n",
    "        tweets = list(data[data['Date'] == hour]['Tweet'])\n",
    "        for twit in tweets:\n",
    "            total += str(twit)\n",
    "        dic['time'].append(hour)\n",
    "        dic[f'{filename}'].append(total)\n",
    "    exec(f'data_{filename[1:]} = pd.DataFrame.from_dict(dic)')\n",
    "    \n",
    "    exec(f'data_{filename[1:]}.set_index(\"time\", inplace=True)')\n",
    "    exec(f'data_{filename[1:]}.sort_index(inplace=True)')\n",
    "    \n",
    "    exec(f'datum.append(data_{filename[1:]})')\n",
    "df_y = pd.concat(datum, axis=1)\n",
    "df_y.fillna('', inplace=True)"
   ]
  },
  {
   "cell_type": "code",
   "execution_count": 83,
   "metadata": {
    "ExecuteTime": {
     "end_time": "2019-07-30T20:52:57.309622Z",
     "start_time": "2019-07-30T20:52:57.276317Z"
    }
   },
   "outputs": [],
   "source": [
    " df_y['ALL'] = df_y['@fl511_i95'] + df_y['@fl511_southeast'] + df_y['@fl511_95EXPRESS']"
   ]
  },
  {
   "cell_type": "code",
   "execution_count": 102,
   "metadata": {
    "ExecuteTime": {
     "end_time": "2019-07-30T21:09:05.004220Z",
     "start_time": "2019-07-30T21:09:04.998276Z"
    }
   },
   "outputs": [],
   "source": [
    "#I-95 N and S, 95 Express N and S, I-195 E and W, SR 826 N and S, SR 836 E and W, US-1 N and S\n",
    "streets = ['I-95', '95 Express', 'I-195', 'SR-826', 'SR-836', 'US-1']"
   ]
  },
  {
   "cell_type": "code",
   "execution_count": null,
   "metadata": {},
   "outputs": [],
   "source": [
    "road = pd.Series()\n",
    "    for i in df_y.index:\n",
    "        val = 0\n",
    "        if ('I-95' in df_y['@fl511_southeast'][i]) and ('Cleared' in df_y['@fl511_southeast'][i]): \n",
    "            val = 2\n",
    "        elif (street in df_y['@fl511_southeast'][i]) and (('New' or 'blocked' or 'traffic' or 'crash' or 'closed' or 'construction') in df_y['@fl511_southeast'][i]): \n",
    "            val = 1\n",
    "        road[i]= val\n",
    "    df_y[street] = road"
   ]
  },
  {
   "cell_type": "code",
   "execution_count": 117,
   "metadata": {
    "ExecuteTime": {
     "end_time": "2019-07-30T21:31:55.891974Z",
     "start_time": "2019-07-30T21:31:11.538070Z"
    }
   },
   "outputs": [
    {
     "data": {
      "application/vnd.jupyter.widget-view+json": {
       "model_id": "71f0ad09ab724438aade39a99acf10fb",
       "version_major": 2,
       "version_minor": 0
      },
      "text/plain": [
       "HBox(children=(IntProgress(value=0, max=6), HTML(value='')))"
      ]
     },
     "metadata": {},
     "output_type": "display_data"
    }
   ],
   "source": [
    "for street in tqdm_notebook(streets):\n",
    "    road = pd.Series()\n",
    "    for i in df_y.index:\n",
    "        val = 0\n",
    "        if (street in df_y['@fl511_southeast'][i]) and ('Cleared' in df_y['@fl511_southeast'][i]): \n",
    "            val = 2\n",
    "        elif (street in df_y['@fl511_southeast'][i]) and (('New' or 'blocked' or 'traffic' or 'crash' or 'closed' or 'construction') in df_y['@fl511_southeast'][i]): \n",
    "            val = 1\n",
    "        road[i]= val\n",
    "    df_y[street] = road"
   ]
  },
  {
   "cell_type": "code",
   "execution_count": 118,
   "metadata": {
    "ExecuteTime": {
     "end_time": "2019-07-30T21:32:08.081560Z",
     "start_time": "2019-07-30T21:32:08.057256Z"
    }
   },
   "outputs": [
    {
     "data": {
      "text/html": [
       "<div>\n",
       "<style scoped>\n",
       "    .dataframe tbody tr th:only-of-type {\n",
       "        vertical-align: middle;\n",
       "    }\n",
       "\n",
       "    .dataframe tbody tr th {\n",
       "        vertical-align: top;\n",
       "    }\n",
       "\n",
       "    .dataframe thead th {\n",
       "        text-align: right;\n",
       "    }\n",
       "</style>\n",
       "<table border=\"1\" class=\"dataframe\">\n",
       "  <thead>\n",
       "    <tr style=\"text-align: right;\">\n",
       "      <th></th>\n",
       "      <th>@fl511_i95</th>\n",
       "      <th>@fl511_southeast</th>\n",
       "      <th>@fl511_95EXPRESS</th>\n",
       "      <th>ALL</th>\n",
       "      <th>Miami</th>\n",
       "      <th>I-95</th>\n",
       "      <th>95 Express</th>\n",
       "      <th>I-195</th>\n",
       "      <th>SR-826</th>\n",
       "      <th>SR-836</th>\n",
       "      <th>US-1</th>\n",
       "    </tr>\n",
       "    <tr>\n",
       "      <th>time</th>\n",
       "      <th></th>\n",
       "      <th></th>\n",
       "      <th></th>\n",
       "      <th></th>\n",
       "      <th></th>\n",
       "      <th></th>\n",
       "      <th></th>\n",
       "      <th></th>\n",
       "      <th></th>\n",
       "      <th></th>\n",
       "      <th></th>\n",
       "    </tr>\n",
       "  </thead>\n",
       "  <tbody>\n",
       "    <tr>\n",
       "      <th>2019-01-01 03:00:00+00:00</th>\n",
       "      <td>Cleared: Disabled vehicle in Miami-Dade on I-9...</td>\n",
       "      <td>Cleared: Disabled vehicle in Miami-Dade on I-9...</td>\n",
       "      <td></td>\n",
       "      <td>Cleared: Disabled vehicle in Miami-Dade on I-9...</td>\n",
       "      <td>False</td>\n",
       "      <td>2</td>\n",
       "      <td>0</td>\n",
       "      <td>0</td>\n",
       "      <td>0</td>\n",
       "      <td>0</td>\n",
       "      <td>0</td>\n",
       "    </tr>\n",
       "    <tr>\n",
       "      <th>2019-01-01 04:00:00+00:00</th>\n",
       "      <td></td>\n",
       "      <td>Cleared: Crash in Miami-Dade on SR-826 south r...</td>\n",
       "      <td></td>\n",
       "      <td>Cleared: Crash in Miami-Dade on SR-826 south r...</td>\n",
       "      <td>False</td>\n",
       "      <td>0</td>\n",
       "      <td>0</td>\n",
       "      <td>0</td>\n",
       "      <td>2</td>\n",
       "      <td>0</td>\n",
       "      <td>0</td>\n",
       "    </tr>\n",
       "    <tr>\n",
       "      <th>2019-01-01 05:00:00+00:00</th>\n",
       "      <td>New: Crash in Broward on I-95 north at Exit 18...</td>\n",
       "      <td>New: Crash in Broward on I-95 north at Exit 18...</td>\n",
       "      <td></td>\n",
       "      <td>New: Crash in Broward on I-95 north at Exit 18...</td>\n",
       "      <td>False</td>\n",
       "      <td>2</td>\n",
       "      <td>0</td>\n",
       "      <td>0</td>\n",
       "      <td>2</td>\n",
       "      <td>0</td>\n",
       "      <td>0</td>\n",
       "    </tr>\n",
       "    <tr>\n",
       "      <th>2019-01-01 06:00:00+00:00</th>\n",
       "      <td>Cleared: Crash in Broward on I-95 north at Exi...</td>\n",
       "      <td>Cleared: Emergency vehicles in Miami-Dade on 9...</td>\n",
       "      <td>Cleared: Emergency vehicles in Miami-Dade on 9...</td>\n",
       "      <td>Cleared: Crash in Broward on I-95 north at Exi...</td>\n",
       "      <td>False</td>\n",
       "      <td>2</td>\n",
       "      <td>2</td>\n",
       "      <td>0</td>\n",
       "      <td>0</td>\n",
       "      <td>0</td>\n",
       "      <td>0</td>\n",
       "    </tr>\n",
       "    <tr>\n",
       "      <th>2019-01-01 07:00:00+00:00</th>\n",
       "      <td></td>\n",
       "      <td>Updated: Crash in Miami-Dade on 95 Express nor...</td>\n",
       "      <td>Updated: Crash in Miami-Dade on 95 Express nor...</td>\n",
       "      <td>Updated: Crash in Miami-Dade on 95 Express nor...</td>\n",
       "      <td>False</td>\n",
       "      <td>0</td>\n",
       "      <td>1</td>\n",
       "      <td>0</td>\n",
       "      <td>0</td>\n",
       "      <td>0</td>\n",
       "      <td>0</td>\n",
       "    </tr>\n",
       "    <tr>\n",
       "      <th>2019-01-01 08:00:00+00:00</th>\n",
       "      <td>Updated: Crash in Miami-Dade on I-95 north at ...</td>\n",
       "      <td>Cleared: Emergency vehicles in Miami-Dade on 9...</td>\n",
       "      <td>Cleared: Emergency vehicles in Miami-Dade on 9...</td>\n",
       "      <td>Updated: Crash in Miami-Dade on I-95 north at ...</td>\n",
       "      <td>False</td>\n",
       "      <td>2</td>\n",
       "      <td>2</td>\n",
       "      <td>0</td>\n",
       "      <td>2</td>\n",
       "      <td>0</td>\n",
       "      <td>0</td>\n",
       "    </tr>\n",
       "    <tr>\n",
       "      <th>2019-01-01 09:00:00+00:00</th>\n",
       "      <td></td>\n",
       "      <td>Cleared: Crash in Miami-Dade on SR-826 west be...</td>\n",
       "      <td>Updated: Emergency vehicles in Miami-Dade on 9...</td>\n",
       "      <td>Cleared: Crash in Miami-Dade on SR-826 west be...</td>\n",
       "      <td>False</td>\n",
       "      <td>0</td>\n",
       "      <td>2</td>\n",
       "      <td>0</td>\n",
       "      <td>2</td>\n",
       "      <td>0</td>\n",
       "      <td>0</td>\n",
       "    </tr>\n",
       "    <tr>\n",
       "      <th>2019-01-01 10:00:00+00:00</th>\n",
       "      <td>Cleared: Crash in Broward on I-95 north at Exi...</td>\n",
       "      <td>New: Crash in Miami-Dade on SR-112 west before...</td>\n",
       "      <td>Cleared: Emergency vehicles in Miami-Dade on 9...</td>\n",
       "      <td>Cleared: Crash in Broward on I-95 north at Exi...</td>\n",
       "      <td>False</td>\n",
       "      <td>2</td>\n",
       "      <td>2</td>\n",
       "      <td>0</td>\n",
       "      <td>0</td>\n",
       "      <td>0</td>\n",
       "      <td>0</td>\n",
       "    </tr>\n",
       "    <tr>\n",
       "      <th>2019-01-01 11:00:00+00:00</th>\n",
       "      <td>Updated: Crash in Broward on I-95 south before...</td>\n",
       "      <td>Updated: Multi-vehicle crash in Miami-Dade on ...</td>\n",
       "      <td></td>\n",
       "      <td>Updated: Crash in Broward on I-95 south before...</td>\n",
       "      <td>False</td>\n",
       "      <td>0</td>\n",
       "      <td>0</td>\n",
       "      <td>0</td>\n",
       "      <td>0</td>\n",
       "      <td>0</td>\n",
       "      <td>0</td>\n",
       "    </tr>\n",
       "    <tr>\n",
       "      <th>2019-01-01 12:00:00+00:00</th>\n",
       "      <td>New: Traffic congestion in Duval on I-95 south...</td>\n",
       "      <td>Cleared: Multi-vehicle crash in Miami-Dade on ...</td>\n",
       "      <td></td>\n",
       "      <td>New: Traffic congestion in Duval on I-95 south...</td>\n",
       "      <td>False</td>\n",
       "      <td>2</td>\n",
       "      <td>0</td>\n",
       "      <td>0</td>\n",
       "      <td>0</td>\n",
       "      <td>0</td>\n",
       "      <td>0</td>\n",
       "    </tr>\n",
       "  </tbody>\n",
       "</table>\n",
       "</div>"
      ],
      "text/plain": [
       "                                                                  @fl511_i95  \\\n",
       "time                                                                           \n",
       "2019-01-01 03:00:00+00:00  Cleared: Disabled vehicle in Miami-Dade on I-9...   \n",
       "2019-01-01 04:00:00+00:00                                                      \n",
       "2019-01-01 05:00:00+00:00  New: Crash in Broward on I-95 north at Exit 18...   \n",
       "2019-01-01 06:00:00+00:00  Cleared: Crash in Broward on I-95 north at Exi...   \n",
       "2019-01-01 07:00:00+00:00                                                      \n",
       "2019-01-01 08:00:00+00:00  Updated: Crash in Miami-Dade on I-95 north at ...   \n",
       "2019-01-01 09:00:00+00:00                                                      \n",
       "2019-01-01 10:00:00+00:00  Cleared: Crash in Broward on I-95 north at Exi...   \n",
       "2019-01-01 11:00:00+00:00  Updated: Crash in Broward on I-95 south before...   \n",
       "2019-01-01 12:00:00+00:00  New: Traffic congestion in Duval on I-95 south...   \n",
       "\n",
       "                                                            @fl511_southeast  \\\n",
       "time                                                                           \n",
       "2019-01-01 03:00:00+00:00  Cleared: Disabled vehicle in Miami-Dade on I-9...   \n",
       "2019-01-01 04:00:00+00:00  Cleared: Crash in Miami-Dade on SR-826 south r...   \n",
       "2019-01-01 05:00:00+00:00  New: Crash in Broward on I-95 north at Exit 18...   \n",
       "2019-01-01 06:00:00+00:00  Cleared: Emergency vehicles in Miami-Dade on 9...   \n",
       "2019-01-01 07:00:00+00:00  Updated: Crash in Miami-Dade on 95 Express nor...   \n",
       "2019-01-01 08:00:00+00:00  Cleared: Emergency vehicles in Miami-Dade on 9...   \n",
       "2019-01-01 09:00:00+00:00  Cleared: Crash in Miami-Dade on SR-826 west be...   \n",
       "2019-01-01 10:00:00+00:00  New: Crash in Miami-Dade on SR-112 west before...   \n",
       "2019-01-01 11:00:00+00:00  Updated: Multi-vehicle crash in Miami-Dade on ...   \n",
       "2019-01-01 12:00:00+00:00  Cleared: Multi-vehicle crash in Miami-Dade on ...   \n",
       "\n",
       "                                                            @fl511_95EXPRESS  \\\n",
       "time                                                                           \n",
       "2019-01-01 03:00:00+00:00                                                      \n",
       "2019-01-01 04:00:00+00:00                                                      \n",
       "2019-01-01 05:00:00+00:00                                                      \n",
       "2019-01-01 06:00:00+00:00  Cleared: Emergency vehicles in Miami-Dade on 9...   \n",
       "2019-01-01 07:00:00+00:00  Updated: Crash in Miami-Dade on 95 Express nor...   \n",
       "2019-01-01 08:00:00+00:00  Cleared: Emergency vehicles in Miami-Dade on 9...   \n",
       "2019-01-01 09:00:00+00:00  Updated: Emergency vehicles in Miami-Dade on 9...   \n",
       "2019-01-01 10:00:00+00:00  Cleared: Emergency vehicles in Miami-Dade on 9...   \n",
       "2019-01-01 11:00:00+00:00                                                      \n",
       "2019-01-01 12:00:00+00:00                                                      \n",
       "\n",
       "                                                                         ALL  \\\n",
       "time                                                                           \n",
       "2019-01-01 03:00:00+00:00  Cleared: Disabled vehicle in Miami-Dade on I-9...   \n",
       "2019-01-01 04:00:00+00:00  Cleared: Crash in Miami-Dade on SR-826 south r...   \n",
       "2019-01-01 05:00:00+00:00  New: Crash in Broward on I-95 north at Exit 18...   \n",
       "2019-01-01 06:00:00+00:00  Cleared: Crash in Broward on I-95 north at Exi...   \n",
       "2019-01-01 07:00:00+00:00  Updated: Crash in Miami-Dade on 95 Express nor...   \n",
       "2019-01-01 08:00:00+00:00  Updated: Crash in Miami-Dade on I-95 north at ...   \n",
       "2019-01-01 09:00:00+00:00  Cleared: Crash in Miami-Dade on SR-826 west be...   \n",
       "2019-01-01 10:00:00+00:00  Cleared: Crash in Broward on I-95 north at Exi...   \n",
       "2019-01-01 11:00:00+00:00  Updated: Crash in Broward on I-95 south before...   \n",
       "2019-01-01 12:00:00+00:00  New: Traffic congestion in Duval on I-95 south...   \n",
       "\n",
       "                           Miami  I-95  95 Express  I-195  SR-826  SR-836  \\\n",
       "time                                                                        \n",
       "2019-01-01 03:00:00+00:00  False     2           0      0       0       0   \n",
       "2019-01-01 04:00:00+00:00  False     0           0      0       2       0   \n",
       "2019-01-01 05:00:00+00:00  False     2           0      0       2       0   \n",
       "2019-01-01 06:00:00+00:00  False     2           2      0       0       0   \n",
       "2019-01-01 07:00:00+00:00  False     0           1      0       0       0   \n",
       "2019-01-01 08:00:00+00:00  False     2           2      0       2       0   \n",
       "2019-01-01 09:00:00+00:00  False     0           2      0       2       0   \n",
       "2019-01-01 10:00:00+00:00  False     2           2      0       0       0   \n",
       "2019-01-01 11:00:00+00:00  False     0           0      0       0       0   \n",
       "2019-01-01 12:00:00+00:00  False     2           0      0       0       0   \n",
       "\n",
       "                           US-1  \n",
       "time                             \n",
       "2019-01-01 03:00:00+00:00     0  \n",
       "2019-01-01 04:00:00+00:00     0  \n",
       "2019-01-01 05:00:00+00:00     0  \n",
       "2019-01-01 06:00:00+00:00     0  \n",
       "2019-01-01 07:00:00+00:00     0  \n",
       "2019-01-01 08:00:00+00:00     0  \n",
       "2019-01-01 09:00:00+00:00     0  \n",
       "2019-01-01 10:00:00+00:00     0  \n",
       "2019-01-01 11:00:00+00:00     0  \n",
       "2019-01-01 12:00:00+00:00     0  "
      ]
     },
     "execution_count": 118,
     "metadata": {},
     "output_type": "execute_result"
    }
   ],
   "source": [
    "df_y.head(10)"
   ]
  },
  {
   "cell_type": "code",
   "execution_count": 110,
   "metadata": {
    "ExecuteTime": {
     "end_time": "2019-07-30T21:27:32.233969Z",
     "start_time": "2019-07-30T21:27:32.225041Z"
    }
   },
   "outputs": [
    {
     "data": {
      "text/plain": [
       "0    4848\n",
       "Name: 95 Express, dtype: int64"
      ]
     },
     "execution_count": 110,
     "metadata": {},
     "output_type": "execute_result"
    }
   ],
   "source": [
    "df_y['95 Express'].value_counts()"
   ]
  }
 ],
 "metadata": {
  "hide_input": false,
  "kernelspec": {
   "display_name": "Python 3",
   "language": "python",
   "name": "python3"
  },
  "language_info": {
   "codemirror_mode": {
    "name": "ipython",
    "version": 3
   },
   "file_extension": ".py",
   "mimetype": "text/x-python",
   "name": "python",
   "nbconvert_exporter": "python",
   "pygments_lexer": "ipython3",
   "version": "3.6.8"
  },
  "toc": {
   "base_numbering": 1,
   "nav_menu": {},
   "number_sections": true,
   "sideBar": true,
   "skip_h1_title": false,
   "title_cell": "Table of Contents",
   "title_sidebar": "Contents",
   "toc_cell": false,
   "toc_position": {},
   "toc_section_display": true,
   "toc_window_display": false
  },
  "varInspector": {
   "cols": {
    "lenName": 16,
    "lenType": 16,
    "lenVar": 40
   },
   "kernels_config": {
    "python": {
     "delete_cmd_postfix": "",
     "delete_cmd_prefix": "del ",
     "library": "var_list.py",
     "varRefreshCmd": "print(var_dic_list())"
    },
    "r": {
     "delete_cmd_postfix": ") ",
     "delete_cmd_prefix": "rm(",
     "library": "var_list.r",
     "varRefreshCmd": "cat(var_dic_list()) "
    }
   },
   "oldHeight": 416.08000000000004,
   "position": {
    "height": "40px",
    "left": "899.44px",
    "right": "20px",
    "top": "120px",
    "width": "309.36px"
   },
   "types_to_exclude": [
    "module",
    "function",
    "builtin_function_or_method",
    "instance",
    "_Feature"
   ],
   "varInspector_section_display": "none",
   "window_display": true
  }
 },
 "nbformat": 4,
 "nbformat_minor": 2
}
