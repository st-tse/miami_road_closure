{
 "cells": [
  {
   "cell_type": "code",
   "execution_count": 2,
   "metadata": {
    "ExecuteTime": {
     "end_time": "2019-07-25T21:58:56.253430Z",
     "start_time": "2019-07-25T21:58:53.952818Z"
    }
   },
   "outputs": [],
   "source": [
    "#data stuff\n",
    "import pandas as pd\n",
    "\n",
    "#Modelling\n",
    "from sklearn.pipeline import Pipeline\n",
    "from sklearn.model_selection import train_test_split, GridSearchCV, cross_val_score\n",
    "from sklearn.linear_model import LogisticRegression\n",
    "from sklearn.neighbors import KNeighborsClassifier\n",
    "from sklearn.naive_bayes import MultinomialNB, GaussianNB\n",
    "from sklearn.feature_extraction import text\n",
    "\n",
    "#NLP\n",
    "import nltk\n",
    "from nltk.stem import WordNetLemmatizer\n",
    "from nltk.tokenize import RegexpTokenizer\n",
    "from nltk.corpus import stopwords\n",
    "from sklearn.feature_extraction import stop_words\n",
    "from sklearn.feature_extraction.text import CountVectorizer, TfidfVectorizer\n",
    "from nltk.tokenize import RegexpTokenizer\n",
    "\n",
    "#other\n",
    "from tqdm import tqdm_notebook"
   ]
  },
  {
   "cell_type": "code",
   "execution_count": 76,
   "metadata": {
    "ExecuteTime": {
     "end_time": "2019-07-25T22:40:55.692191Z",
     "start_time": "2019-07-25T22:40:55.581820Z"
    }
   },
   "outputs": [],
   "source": [
    "fl511 = pd.read_csv('./Datasets/lastweek_y.csv')"
   ]
  },
  {
   "cell_type": "code",
   "execution_count": 77,
   "metadata": {
    "ExecuteTime": {
     "end_time": "2019-07-25T22:40:57.119025Z",
     "start_time": "2019-07-25T22:40:57.113040Z"
    }
   },
   "outputs": [],
   "source": [
    "fl511.drop(columns=['User', 'User_ID', 'Geo', 'HashTag'], inplace=True)"
   ]
  },
  {
   "cell_type": "code",
   "execution_count": 151,
   "metadata": {
    "ExecuteTime": {
     "end_time": "2019-07-25T23:01:12.326444Z",
     "start_time": "2019-07-25T23:01:12.320391Z"
    }
   },
   "outputs": [],
   "source": [
    "def remove_url(tweet):\n",
    "    ind = tweet.find('fl511.com')\n",
    "    tweet = tweet[:ind]\n",
    "    return tweet\n",
    "def remove_time(tweet):\n",
    "    ind = tweet.rfind('at')\n",
    "    tweet = tweet[:ind]\n",
    "    return tweet\n",
    "def remove_inc(tweet):\n",
    "    ind = tweet.find(' on ')\n",
    "    tweet = tweet[ind+4:]\n",
    "    if ' on ' in tweet:\n",
    "        ind = tweet.find(' on ')\n",
    "        tweet = tweet[ind+4:]\n",
    "    return tweet\n",
    "def remove_tail(tweet):\n",
    "    ind = tweet.rfind(',')\n",
    "    tweet = tweet[:ind]\n",
    "    return tweet"
   ]
  },
  {
   "cell_type": "code",
   "execution_count": 152,
   "metadata": {
    "ExecuteTime": {
     "end_time": "2019-07-25T23:01:13.509656Z",
     "start_time": "2019-07-25T23:01:13.473100Z"
    }
   },
   "outputs": [],
   "source": [
    "fl511 = pd.read_csv('./Datasets/lastweek_y.csv')\n",
    "fl511['Tweet'] = fl511['Tweet'].map(remove_url)\n",
    "fl511['Tweet'] = fl511['Tweet'].map(remove_time)\n",
    "fl511['Tweet'] = fl511['Tweet'].map(remove_inc)\n",
    "fl511['Tweet'] = fl511['Tweet'].map(remove_tail)"
   ]
  },
  {
   "cell_type": "code",
   "execution_count": 172,
   "metadata": {
    "ExecuteTime": {
     "end_time": "2019-07-25T23:18:42.463171Z",
     "start_time": "2019-07-25T23:18:42.440724Z"
    }
   },
   "outputs": [
    {
     "data": {
      "text/plain": [
       "{'826 Express south',\n",
       " '826 Express south ramp',\n",
       " '95 Express north',\n",
       " '95 Express north ramp',\n",
       " '95 Express south',\n",
       " '95 Express south ramp',\n",
       " 'Alton Rd',\n",
       " 'Bird Rd',\n",
       " 'Bridge Rd/Star Island',\n",
       " 'Caribbean Blvd',\n",
       " 'Florida Turnpike',\n",
       " \"Florida's Turnpike/SR-826\",\n",
       " 'Floridas Turnpike north',\n",
       " 'Floridas Turnpike north ramp',\n",
       " 'Floridas Turnpike south',\n",
       " 'Floridas Turnpike south ramp',\n",
       " 'Fountain St/Palm Island',\n",
       " 'Golden Glades Park & Ride',\n",
       " 'I-195 East - Miami Beach/SR-112 West - Airport',\n",
       " 'I-195 east',\n",
       " 'I-195 east ramp',\n",
       " 'I-195 west',\n",
       " 'I-195 west ramp',\n",
       " 'I-395 east',\n",
       " 'I-395 east ramp',\n",
       " 'I-395 west',\n",
       " 'I-75',\n",
       " 'I-75 north',\n",
       " 'I-75 south',\n",
       " 'I-75 south ramp',\n",
       " 'I-75 to',\n",
       " 'I-95',\n",
       " 'I-95 Mainline/Golden Glades Interchange',\n",
       " 'I-95 Mainline/I-395',\n",
       " 'I-95 Mainline/Ives Dairy Rd',\n",
       " 'I-95 North',\n",
       " 'I-95 South',\n",
       " 'I-95 north',\n",
       " 'I-95 north ramp',\n",
       " 'I-95 south',\n",
       " 'I-95 south ramp',\n",
       " 'Le Jeune Rd',\n",
       " 'Le Jeune Rd North',\n",
       " 'Le Jeune Rd North and traffic backed up until NW 57 Ave',\n",
       " 'Lejeune Rd',\n",
       " 'Lejeune Rd/NW 45 Ave',\n",
       " 'MacArthur Causeway east',\n",
       " 'MacArthur Causeway east ramp',\n",
       " 'MacArthur Causeway west',\n",
       " 'Macarthur Causeway',\n",
       " 'Miller Dr/SW 56 St',\n",
       " 'NE 203 St/Ives Dairy Rd',\n",
       " 'NW 107 Ave',\n",
       " 'NW 12 Ave',\n",
       " 'NW 122 St',\n",
       " 'NW 137 Ave',\n",
       " 'NW 137 Ave Southbound',\n",
       " 'NW 151 St',\n",
       " 'NW 154 St',\n",
       " 'NW 154 St /Miami Lakes Dr',\n",
       " 'NW 154 St/Miami Lakes Dr',\n",
       " 'NW 17 Ave',\n",
       " 'NW 17 Ave. Last updated',\n",
       " 'NW 17 Ave/NW 12 Ave',\n",
       " 'NW 17 Ave/NW 22 Ave',\n",
       " 'NW 17th Ave Northbound',\n",
       " 'NW 22 Ave',\n",
       " 'NW 25 St',\n",
       " 'NW 27 Ave',\n",
       " 'NW 32 Ave',\n",
       " 'NW 36 St',\n",
       " 'NW 37 Ave Merge West/NW 167 St',\n",
       " 'NW 37 Ave/Douglas Rd',\n",
       " 'NW 39 St/NW 10 Ave',\n",
       " 'NW 45 Ave',\n",
       " 'NW 47 Ave',\n",
       " 'NW 57 Ave',\n",
       " 'NW 57 Ave to',\n",
       " 'NW 57 Ave, off-ramp closed',\n",
       " 'NW 58 St',\n",
       " 'NW 62 St/Dr. Martin Luther King Jr. Blvd',\n",
       " 'NW 62 St/Dr. Martin Luther King...http:',\n",
       " 'NW 67 Ave/Ludlam Rd',\n",
       " 'NW 67 Ave/Ludlam Rd Merge West/NW 167 St',\n",
       " 'NW 69 St',\n",
       " 'NW 72 Ave',\n",
       " 'NW 74 St',\n",
       " 'NW 81 St',\n",
       " 'NW 87 Ave',\n",
       " 'NW 95 St/Rev Dr. A. Jackson Jr. Blvd',\n",
       " 'North Miami/Bal Harbour/NW 125 St',\n",
       " 'Okeechobee Rd',\n",
       " 'Port Miami Tunnel east ramp',\n",
       " 'Port Miami Tunnel west ramp',\n",
       " 'Quail Roost Dr to',\n",
       " 'Riviera Dr',\n",
       " 'SR 826',\n",
       " 'SR 826/NW 67 Ave',\n",
       " 'SR 874',\n",
       " 'SR 878 East',\n",
       " 'SR-112',\n",
       " 'SR-112 West/Miami Inter',\n",
       " 'SR-112 West/Miami International Airport',\n",
       " 'SR-112 east',\n",
       " 'SR-112 east ramp',\n",
       " 'SR-112 west',\n",
       " 'SR-823/NW 57 Ave/Red Rd',\n",
       " 'SR-823/Red Rd/NW 57 Ave',\n",
       " 'SR-826 east',\n",
       " 'SR-826 east ramp',\n",
       " 'SR-826 north',\n",
       " 'SR-826 north ramp',\n",
       " 'SR-826 south',\n",
       " 'SR-826 south ramp',\n",
       " 'SR-826 west',\n",
       " 'SR-826 west ramp',\n",
       " 'SR-836',\n",
       " 'SR-836 East',\n",
       " 'SR-836 east',\n",
       " 'SR-836 east ramp',\n",
       " 'SR-836 west',\n",
       " 'SR-836 west ramp',\n",
       " 'SR-836/NW 72 Ave',\n",
       " 'SR-860/Miami Gardens Dr',\n",
       " 'SR-874 north',\n",
       " 'SR-874 south',\n",
       " 'SR-878 west',\n",
       " 'SR-886/Port Boulevard',\n",
       " 'SR-907/Alton Rd',\n",
       " 'SR-916/NW 135 St/Opa-locka Blvd',\n",
       " 'SR-924 east',\n",
       " 'SR-924 west',\n",
       " 'SR-924/NW 119 St',\n",
       " 'SR-932/NW 103 St',\n",
       " 'SR-934/NW 74 St',\n",
       " 'SR-934/NW 79 St/NW 81 St',\n",
       " 'SR-953/Le Jeune Rd/SW 42 Ave',\n",
       " 'SR-968/West Flagler St',\n",
       " 'SR-973/SW 132 St',\n",
       " 'SR-976/Bird Rd/SW 40 St',\n",
       " 'SR-976/SW 40 St/Bird Rd',\n",
       " 'SW 17 Ave',\n",
       " 'SW 24 St/Coral Way',\n",
       " 'SW 344 St/SR-9336/Palm Dr',\n",
       " 'SW 40 St East',\n",
       " 'SW 62 Ave',\n",
       " 'SW 88 St',\n",
       " 'SW 88 St West',\n",
       " 'Terminal Isle',\n",
       " 'Turnpike',\n",
       " 'US 27/Okeechobee Rd/S River Dr',\n",
       " 'US-1 Junction',\n",
       " 'US-1 north',\n",
       " 'US-1 south',\n",
       " 'US-27/Okeechobee Rd/South River Dr',\n",
       " 'US-41/SW 8 St',\n",
       " 'US-41/SW 8 St East',\n",
       " 'US-41/SW 8 St West',\n",
       " 'US-41/Tamiami Trail/SW 8 St',\n",
       " 'US-41/Tamiami Trail/SW 8 St and traffic backed up until SR-976/SW 40 St/Bird Rd',\n",
       " 'before I-75 to',\n",
       " 'beyond NW 57 Ave to',\n",
       " 'beyond Quail Roost Dr to'}"
      ]
     },
     "execution_count": 172,
     "metadata": {},
     "output_type": "execute_result"
    }
   ],
   "source": [
    "roads = set()\n",
    "for tweet in fl511['Tweet']:\n",
    "    join_words = [' to ', ' before ', ' beyond ', ' at ', ' from ']\n",
    "    easy = True\n",
    "    if len(tweet) == 0:\n",
    "        easy=False\n",
    "    for stop in join_words:\n",
    "        if stop in tweet:\n",
    "            easy=False\n",
    "    if  easy == True:\n",
    "        roads.add(tweet)\n",
    "    for join in join_words:\n",
    "        ind = tweet.find(join)\n",
    "        if ind != -1:\n",
    "            loc1 = tweet[:ind]\n",
    "            if 'from' not in loc1:\n",
    "                roads.add(loc1)\n",
    "            loc2 = tweet[ind + len(join):]\n",
    "            if 'Exit' not in loc2:\n",
    "                roads.add(loc2)\n",
    "        #roads.add(loc2)\n",
    "roads"
   ]
  },
  {
   "cell_type": "code",
   "execution_count": 173,
   "metadata": {
    "ExecuteTime": {
     "end_time": "2019-07-25T23:21:14.226284Z",
     "start_time": "2019-07-25T23:21:14.133575Z"
    }
   },
   "outputs": [],
   "source": [
    "tweets_20 = pd.read_csv('./Datasets/lastweek_X_20000.csv')"
   ]
  },
  {
   "cell_type": "code",
   "execution_count": 174,
   "metadata": {
    "ExecuteTime": {
     "end_time": "2019-07-25T23:21:21.534618Z",
     "start_time": "2019-07-25T23:21:21.516618Z"
    }
   },
   "outputs": [],
   "source": [
    "fl511 = pd.read_csv('./Datasets/lastweek_y.csv')"
   ]
  },
  {
   "cell_type": "code",
   "execution_count": 175,
   "metadata": {
    "ExecuteTime": {
     "end_time": "2019-07-25T23:21:37.259838Z",
     "start_time": "2019-07-25T23:21:37.241724Z"
    }
   },
   "outputs": [
    {
     "data": {
      "text/plain": [
       "199662147    1223\n",
       "Name: User_ID, dtype: int64"
      ]
     },
     "execution_count": 175,
     "metadata": {},
     "output_type": "execute_result"
    }
   ],
   "source": []
  }
 ],
 "metadata": {
  "hide_input": false,
  "kernelspec": {
   "display_name": "Python 3",
   "language": "python",
   "name": "python3"
  },
  "language_info": {
   "codemirror_mode": {
    "name": "ipython",
    "version": 3
   },
   "file_extension": ".py",
   "mimetype": "text/x-python",
   "name": "python",
   "nbconvert_exporter": "python",
   "pygments_lexer": "ipython3",
   "version": "3.6.8"
  },
  "toc": {
   "base_numbering": 1,
   "nav_menu": {},
   "number_sections": true,
   "sideBar": true,
   "skip_h1_title": false,
   "title_cell": "Table of Contents",
   "title_sidebar": "Contents",
   "toc_cell": false,
   "toc_position": {},
   "toc_section_display": true,
   "toc_window_display": false
  },
  "varInspector": {
   "cols": {
    "lenName": 16,
    "lenType": 16,
    "lenVar": 40
   },
   "kernels_config": {
    "python": {
     "delete_cmd_postfix": "",
     "delete_cmd_prefix": "del ",
     "library": "var_list.py",
     "varRefreshCmd": "print(var_dic_list())"
    },
    "r": {
     "delete_cmd_postfix": ") ",
     "delete_cmd_prefix": "rm(",
     "library": "var_list.r",
     "varRefreshCmd": "cat(var_dic_list()) "
    }
   },
   "types_to_exclude": [
    "module",
    "function",
    "builtin_function_or_method",
    "instance",
    "_Feature"
   ],
   "window_display": false
  }
 },
 "nbformat": 4,
 "nbformat_minor": 2
}
