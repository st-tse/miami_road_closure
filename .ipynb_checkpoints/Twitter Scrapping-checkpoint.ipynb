{
 "cells": [
  {
   "cell_type": "markdown",
   "metadata": {
    "heading_collapsed": true
   },
   "source": [
    "### Imports"
   ]
  },
  {
   "cell_type": "markdown",
   "metadata": {
    "ExecuteTime": {
     "end_time": "2019-07-24T20:40:12.086586Z",
     "start_time": "2019-07-24T20:40:12.082600Z"
    },
    "heading_collapsed": true,
    "hidden": true
   },
   "source": [
    "#### Required"
   ]
  },
  {
   "cell_type": "code",
   "execution_count": 1,
   "metadata": {
    "ExecuteTime": {
     "end_time": "2019-07-24T20:21:31.838432Z",
     "start_time": "2019-07-24T20:21:31.043038Z"
    },
    "hidden": true
   },
   "outputs": [],
   "source": [
    "import GetOldTweets3 as got\n",
    "import pandas as pd"
   ]
  },
  {
   "cell_type": "markdown",
   "metadata": {
    "heading_collapsed": true,
    "hidden": true
   },
   "source": [
    "#### Optional"
   ]
  },
  {
   "cell_type": "markdown",
   "metadata": {
    "hidden": true
   },
   "source": [
    "tqdm is used in 3.2 to measure progress  \n",
    "Installation is NOT required but changes have to be made if you choose not to use it  \n",
    "\n",
    "<b>If not using tqdm remove tqdm_notebook() from 3.2 line 11</b>\n",
    "\n",
    "Documentation can be found here: https://github.com/tqdm/tqdm"
   ]
  },
  {
   "cell_type": "code",
   "execution_count": null,
   "metadata": {
    "hidden": true
   },
   "outputs": [],
   "source": [
    "# install tqdm for progress bar\n",
    "# don't run if tqdm is already installed\n",
    "!pip install tqdm"
   ]
  },
  {
   "cell_type": "code",
   "execution_count": null,
   "metadata": {
    "hidden": true
   },
   "outputs": [],
   "source": [
    "# Don't run this cell if you have not installed tqdm otherwise you'll get an error\n",
    "from tqdm import tqdm_notebook "
   ]
  },
  {
   "cell_type": "markdown",
   "metadata": {
    "heading_collapsed": true
   },
   "source": [
    "### Scrape"
   ]
  },
  {
   "cell_type": "markdown",
   "metadata": {
    "heading_collapsed": true,
    "hidden": true
   },
   "source": [
    "#### Get Local"
   ]
  },
  {
   "cell_type": "markdown",
   "metadata": {
    "hidden": true
   },
   "source": [
    "Only use if scrape has previously been executed and tweets are save on disk  \n",
    "if so skip to 3  \n",
    "otherwise skip this cell and run 2.2-2.4"
   ]
  },
  {
   "cell_type": "code",
   "execution_count": null,
   "metadata": {
    "hidden": true
   },
   "outputs": [],
   "source": [
    "# must have been stored as tweet to work\n",
    "# if tweets were saved under another variable simply hange 'tweet' to that variable name\n",
    "% store -r tweet"
   ]
  },
  {
   "cell_type": "markdown",
   "metadata": {
    "heading_collapsed": true,
    "hidden": true
   },
   "source": [
    "#### Parameters"
   ]
  },
  {
   "cell_type": "code",
   "execution_count": null,
   "metadata": {
    "hidden": true
   },
   "outputs": [],
   "source": [
    "date_start = \"2018-08-31\"\n",
    "date_end = \"2018-09-18\"\n",
    "location = 'Miami, Florida'"
   ]
  },
  {
   "cell_type": "markdown",
   "metadata": {
    "heading_collapsed": true,
    "hidden": true
   },
   "source": [
    "#### Web Scrape"
   ]
  },
  {
   "cell_type": "code",
   "execution_count": 2,
   "metadata": {
    "ExecuteTime": {
     "end_time": "2019-07-24T20:40:11.576974Z",
     "start_time": "2019-07-24T20:21:31.978347Z"
    },
    "hidden": true
   },
   "outputs": [],
   "source": [
    "# gets tweets with above parameters\n",
    "tweetCriteria = got.manager.TweetCriteria()\\\n",
    "                                        .setSince(date_start)\\\n",
    "                                        .setUntil(date_end)\\\n",
    "                                        .setNear(location)\n",
    "tweet = got.manager.TweetManager.getTweets(tweetCriteria)"
   ]
  },
  {
   "cell_type": "markdown",
   "metadata": {
    "heading_collapsed": true,
    "hidden": true
   },
   "source": [
    "#### Save Locally"
   ]
  },
  {
   "cell_type": "code",
   "execution_count": 4,
   "metadata": {
    "ExecuteTime": {
     "end_time": "2019-07-24T20:51:19.200137Z",
     "start_time": "2019-07-24T20:51:18.845041Z"
    },
    "hidden": true
   },
   "outputs": [
    {
     "name": "stdout",
     "output_type": "stream",
     "text": [
      "Stored 'tweet' (list)\n"
     ]
    }
   ],
   "source": [
    "# stores variable locally on disk for future use\n",
    "%store tweet"
   ]
  },
  {
   "cell_type": "markdown",
   "metadata": {
    "heading_collapsed": true
   },
   "source": [
    "### To Dataframe"
   ]
  },
  {
   "cell_type": "markdown",
   "metadata": {
    "heading_collapsed": true,
    "hidden": true
   },
   "source": [
    "#### Features "
   ]
  },
  {
   "cell_type": "code",
   "execution_count": null,
   "metadata": {
    "hidden": true
   },
   "outputs": [],
   "source": [
    "# name of feature : name of attribute in tweet obj\n",
    "features = {\n",
    "    'Tweet': 'text',\n",
    "    'User': 'username',\n",
    "    'User_ID': 'author_id',\n",
    "    'Geo': 'geo',\n",
    "    'HashTag': 'hashtags',\n",
    "    'Date': 'formatted_date',\n",
    "}"
   ]
  },
  {
   "cell_type": "markdown",
   "metadata": {
    "heading_collapsed": true,
    "hidden": true
   },
   "source": [
    "#### Generate DataFrame"
   ]
  },
  {
   "cell_type": "markdown",
   "metadata": {
    "hidden": true
   },
   "source": [
    "Creates a dataframe from scrape  \n",
    "Uses advice mentioned in this thread on how to create dataframe w/o using append() to improve efficiency  \n",
    "https://stackoverflow.com/questions/27929472/improve-row-append-performance-on-pandas-dataframes"
   ]
  },
  {
   "cell_type": "code",
   "execution_count": 85,
   "metadata": {
    "ExecuteTime": {
     "end_time": "2019-07-24T20:16:08.666250Z",
     "start_time": "2019-07-24T20:16:07.057333Z"
    },
    "hidden": true
   },
   "outputs": [
    {
     "data": {
      "application/vnd.jupyter.widget-view+json": {
       "model_id": "22358fcbc3de4891839e5049ee271091",
       "version_major": 2,
       "version_minor": 0
      },
      "text/plain": [
       "HBox(children=(IntProgress(value=0, max=31249), HTML(value='')))"
      ]
     },
     "metadata": {},
     "output_type": "display_data"
    }
   ],
   "source": [
    "data = {}\n",
    "\n",
    "for title in features.keys():\n",
    "    data[title] = []\n",
    "\n",
    "# progress bar will not show without certain packages installed\n",
    "for i in tqdm_notebook(tweet):\n",
    "    for col, attr in features.items():\n",
    "        var = eval('i.' + attr)\n",
    "        data[col].append(var)\n",
    "        \n",
    "df = pd.DataFrame.from_dict(data)"
   ]
  },
  {
   "cell_type": "markdown",
   "metadata": {
    "heading_collapsed": true,
    "hidden": true
   },
   "source": [
    "#### Export"
   ]
  },
  {
   "cell_type": "code",
   "execution_count": 88,
   "metadata": {
    "ExecuteTime": {
     "end_time": "2019-07-24T20:16:38.336721Z",
     "start_time": "2019-07-24T20:16:37.994519Z"
    },
    "hidden": true
   },
   "outputs": [],
   "source": [
    "# export dataframe as csv\n",
    "df.to_csv('all_tweets', index_label=False)"
   ]
  }
 ],
 "metadata": {
  "hide_input": false,
  "kernelspec": {
   "display_name": "Python 3",
   "language": "python",
   "name": "python3"
  },
  "language_info": {
   "codemirror_mode": {
    "name": "ipython",
    "version": 3
   },
   "file_extension": ".py",
   "mimetype": "text/x-python",
   "name": "python",
   "nbconvert_exporter": "python",
   "pygments_lexer": "ipython3",
   "version": "3.6.8"
  },
  "toc": {
   "base_numbering": 1,
   "nav_menu": {},
   "number_sections": true,
   "sideBar": true,
   "skip_h1_title": false,
   "title_cell": "Table of Contents",
   "title_sidebar": "Contents",
   "toc_cell": false,
   "toc_position": {},
   "toc_section_display": true,
   "toc_window_display": false
  },
  "varInspector": {
   "cols": {
    "lenName": 16,
    "lenType": 16,
    "lenVar": 40
   },
   "kernels_config": {
    "python": {
     "delete_cmd_postfix": "",
     "delete_cmd_prefix": "del ",
     "library": "var_list.py",
     "varRefreshCmd": "print(var_dic_list())"
    },
    "r": {
     "delete_cmd_postfix": ") ",
     "delete_cmd_prefix": "rm(",
     "library": "var_list.r",
     "varRefreshCmd": "cat(var_dic_list()) "
    }
   },
   "position": {
    "height": "343.72px",
    "left": "915.44px",
    "right": "20px",
    "top": "120px",
    "width": "293.36px"
   },
   "types_to_exclude": [
    "module",
    "function",
    "builtin_function_or_method",
    "instance",
    "_Feature"
   ],
   "window_display": false
  }
 },
 "nbformat": 4,
 "nbformat_minor": 2
}
