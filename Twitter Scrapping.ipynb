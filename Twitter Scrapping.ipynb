{
 "cells": [
  {
   "cell_type": "markdown",
   "metadata": {
    "heading_collapsed": true
   },
   "source": [
    "### Imports"
   ]
  },
  {
   "cell_type": "markdown",
   "metadata": {
    "ExecuteTime": {
     "end_time": "2019-07-24T20:40:12.086586Z",
     "start_time": "2019-07-24T20:40:12.082600Z"
    },
    "hidden": true
   },
   "source": [
    "#### Required"
   ]
  },
  {
   "cell_type": "code",
   "execution_count": 1,
   "metadata": {
    "ExecuteTime": {
     "end_time": "2019-07-25T20:26:33.241377Z",
     "start_time": "2019-07-25T20:26:32.405807Z"
    },
    "hidden": true
   },
   "outputs": [],
   "source": [
    "import GetOldTweets3 as got\n",
    "import pandas as pd"
   ]
  },
  {
   "cell_type": "markdown",
   "metadata": {
    "hidden": true
   },
   "source": [
    "#### Optional"
   ]
  },
  {
   "cell_type": "markdown",
   "metadata": {
    "hidden": true
   },
   "source": [
    "tqdm is used in 3.2 to measure progress  \n",
    "Installation is NOT required but changes have to be made if you choose not to use it  \n",
    "\n",
    "<b>If not using tqdm remove tqdm_notebook() from 3.2 line 11</b>\n",
    "\n",
    "Documentation can be found here: https://github.com/tqdm/tqdm"
   ]
  },
  {
   "cell_type": "code",
   "execution_count": 3,
   "metadata": {
    "ExecuteTime": {
     "end_time": "2019-07-25T17:12:39.380660Z",
     "start_time": "2019-07-25T17:12:36.804545Z"
    },
    "hidden": true
   },
   "outputs": [
    {
     "name": "stdout",
     "output_type": "stream",
     "text": [
      "Requirement already satisfied: tqdm in c:\\users\\steph\\anaconda3\\lib\\site-packages (4.31.1)\n"
     ]
    }
   ],
   "source": [
    "# install tqdm for progress bar\n",
    "# don't run if tqdm is already installed\n",
    "#!pip install tqdm"
   ]
  },
  {
   "cell_type": "code",
   "execution_count": 2,
   "metadata": {
    "ExecuteTime": {
     "end_time": "2019-07-25T20:26:35.384606Z",
     "start_time": "2019-07-25T20:26:35.372605Z"
    },
    "hidden": true
   },
   "outputs": [],
   "source": [
    "# Don't run this cell if you have not installed tqdm otherwise you'll get an error\n",
    "from tqdm import tqdm_notebook "
   ]
  },
  {
   "cell_type": "markdown",
   "metadata": {},
   "source": [
    "### Scrape"
   ]
  },
  {
   "cell_type": "markdown",
   "metadata": {
    "heading_collapsed": true
   },
   "source": [
    "#### Get Local"
   ]
  },
  {
   "cell_type": "markdown",
   "metadata": {
    "hidden": true
   },
   "source": [
    "Only use if scrape has previously been executed and tweets are save on disk  \n",
    "if so skip to 3  \n",
    "otherwise skip this cell and run 2.2-2.4"
   ]
  },
  {
   "cell_type": "code",
   "execution_count": null,
   "metadata": {
    "hidden": true
   },
   "outputs": [],
   "source": [
    "# must have been stored as tweet to work\n",
    "# if tweets were saved under another variable simply hange 'tweet' to that variable name\n",
    "% store -r tweet"
   ]
  },
  {
   "cell_type": "markdown",
   "metadata": {},
   "source": [
    "#### Parameters"
   ]
  },
  {
   "cell_type": "code",
   "execution_count": 3,
   "metadata": {
    "ExecuteTime": {
     "end_time": "2019-07-25T20:26:44.287734Z",
     "start_time": "2019-07-25T20:26:44.285429Z"
    }
   },
   "outputs": [],
   "source": [
    "#'2018-08-31'\n",
    "#'2018-09-06'\n",
    "date_start = \"2018-08-31\"\n",
    "date_end = \"2018-12-31\"\n",
    "location = 'Miami, Florida'\n",
    "actual = '@fl511_state'\n",
    "#FL511 Statewide\n",
    "#@fl511_state"
   ]
  },
  {
   "cell_type": "markdown",
   "metadata": {},
   "source": [
    "#### Web Scrape"
   ]
  },
  {
   "cell_type": "code",
   "execution_count": 21,
   "metadata": {
    "ExecuteTime": {
     "end_time": "2019-07-25T22:20:04.692520Z",
     "start_time": "2019-07-25T21:57:22.947103Z"
    }
   },
   "outputs": [],
   "source": [
    "# gets tweets with above \n",
    "# .setUsername(actual).setQuerySearch('Miami-Dade').setMaxTweets(20) # works\n",
    "# .setUsername(actual).setQuerySearch('Miami-Dade').setSince(date_start).setUntil(date_end)\n",
    "# .set\n",
    "\n",
    "# gets tweets with above parameters\n",
    "tweetCriteria = got.manager.TweetCriteria().setNear(location).setMaxTweets(35000)\n",
    "\n",
    "tweet = got.manager.TweetManager.getTweets(tweetCriteria)"
   ]
  },
  {
   "cell_type": "markdown",
   "metadata": {
    "heading_collapsed": true
   },
   "source": [
    "#### Save Locally"
   ]
  },
  {
   "cell_type": "code",
   "execution_count": 4,
   "metadata": {
    "ExecuteTime": {
     "end_time": "2019-07-24T20:51:19.200137Z",
     "start_time": "2019-07-24T20:51:18.845041Z"
    },
    "hidden": true
   },
   "outputs": [
    {
     "name": "stdout",
     "output_type": "stream",
     "text": [
      "Stored 'tweet' (list)\n"
     ]
    }
   ],
   "source": [
    "# stores variable locally on disk for future use\n",
    "%store tweet"
   ]
  },
  {
   "cell_type": "markdown",
   "metadata": {},
   "source": [
    "### To Dataframe"
   ]
  },
  {
   "cell_type": "markdown",
   "metadata": {
    "heading_collapsed": true
   },
   "source": [
    "#### Features "
   ]
  },
  {
   "cell_type": "code",
   "execution_count": 8,
   "metadata": {
    "ExecuteTime": {
     "end_time": "2019-07-25T21:16:36.401803Z",
     "start_time": "2019-07-25T21:16:36.397778Z"
    },
    "hidden": true
   },
   "outputs": [],
   "source": [
    "# name of feature : name of attribute in tweet obj\n",
    "features = {\n",
    "    'Tweet': 'text',\n",
    "    'User': 'username',\n",
    "    'User_ID': 'author_id',\n",
    "    'Geo': 'geo',\n",
    "    'HashTag': 'hashtags',\n",
    "    'Date': 'formatted_date',\n",
    "}"
   ]
  },
  {
   "cell_type": "markdown",
   "metadata": {},
   "source": [
    "#### Generate DataFrame"
   ]
  },
  {
   "cell_type": "markdown",
   "metadata": {},
   "source": [
    "Creates a dataframe from scrape  \n",
    "Uses advice mentioned in this thread on how to create dataframe w/o using append() to improve efficiency  \n",
    "https://stackoverflow.com/questions/27929472/improve-row-append-performance-on-pandas-dataframes"
   ]
  },
  {
   "cell_type": "code",
   "execution_count": 22,
   "metadata": {
    "ExecuteTime": {
     "end_time": "2019-07-25T23:22:22.818220Z",
     "start_time": "2019-07-25T23:22:20.375728Z"
    }
   },
   "outputs": [
    {
     "data": {
      "application/vnd.jupyter.widget-view+json": {
       "model_id": "bb1054d93d9645a78647a0a1c417e69e",
       "version_major": 2,
       "version_minor": 0
      },
      "text/plain": [
       "HBox(children=(IntProgress(value=0, max=35000), HTML(value='')))"
      ]
     },
     "metadata": {},
     "output_type": "display_data"
    },
    {
     "name": "stdout",
     "output_type": "stream",
     "text": [
      "\n"
     ]
    }
   ],
   "source": [
    "data = {}\n",
    "\n",
    "for title in features.keys():\n",
    "    data[title] = []\n",
    "\n",
    "# progress bar will not show without certain packages installed\n",
    "for i in tqdm_notebook(tweet):\n",
    "    for col, attr in features.items():\n",
    "        var = eval('i.' + attr)\n",
    "        data[col].append(var)\n",
    "        \n",
    "df = pd.DataFrame.from_dict(data)"
   ]
  },
  {
   "cell_type": "code",
   "execution_count": 16,
   "metadata": {
    "ExecuteTime": {
     "end_time": "2019-07-25T21:36:13.667276Z",
     "start_time": "2019-07-25T21:36:13.651817Z"
    }
   },
   "outputs": [
    {
     "data": {
      "text/html": [
       "<div>\n",
       "<style scoped>\n",
       "    .dataframe tbody tr th:only-of-type {\n",
       "        vertical-align: middle;\n",
       "    }\n",
       "\n",
       "    .dataframe tbody tr th {\n",
       "        vertical-align: top;\n",
       "    }\n",
       "\n",
       "    .dataframe thead th {\n",
       "        text-align: right;\n",
       "    }\n",
       "</style>\n",
       "<table border=\"1\" class=\"dataframe\">\n",
       "  <thead>\n",
       "    <tr style=\"text-align: right;\">\n",
       "      <th></th>\n",
       "      <th>Tweet</th>\n",
       "      <th>User</th>\n",
       "      <th>User_ID</th>\n",
       "      <th>Geo</th>\n",
       "      <th>HashTag</th>\n",
       "      <th>Date</th>\n",
       "    </tr>\n",
       "  </thead>\n",
       "  <tbody>\n",
       "    <tr>\n",
       "      <th>0</th>\n",
       "      <td>Honey you have to start taking birth control T...</td>\n",
       "      <td>okokok1021</td>\n",
       "      <td>2536145704</td>\n",
       "      <td></td>\n",
       "      <td></td>\n",
       "      <td>Thu Jul 25 21:35:07 +0000 2019</td>\n",
       "    </tr>\n",
       "    <tr>\n",
       "      <th>1</th>\n",
       "      <td>@SaqueLargoWin #ShowDeCopa Movistar solo se la...</td>\n",
       "      <td>majoisa</td>\n",
       "      <td>152403455</td>\n",
       "      <td></td>\n",
       "      <td>#ShowDeCopa</td>\n",
       "      <td>Thu Jul 25 21:35:06 +0000 2019</td>\n",
       "    </tr>\n",
       "    <tr>\n",
       "      <th>2</th>\n",
       "      <td>You'll find our new contributors across a vari...</td>\n",
       "      <td>5ReasonsSports</td>\n",
       "      <td>975153526367277056</td>\n",
       "      <td></td>\n",
       "      <td></td>\n",
       "      <td>Thu Jul 25 21:35:06 +0000 2019</td>\n",
       "    </tr>\n",
       "    <tr>\n",
       "      <th>3</th>\n",
       "      <td>So.... We have had some changes after our firs...</td>\n",
       "      <td>5ReasonsSports</td>\n",
       "      <td>975153526367277056</td>\n",
       "      <td></td>\n",
       "      <td></td>\n",
       "      <td>Thu Jul 25 21:35:05 +0000 2019</td>\n",
       "    </tr>\n",
       "    <tr>\n",
       "      <th>4</th>\n",
       "      <td>Author @phcartaya is on this week’s #TheLitera...</td>\n",
       "      <td>BooksandBooks</td>\n",
       "      <td>127923010</td>\n",
       "      <td></td>\n",
       "      <td>#TheLiteraryLife</td>\n",
       "      <td>Thu Jul 25 21:35:04 +0000 2019</td>\n",
       "    </tr>\n",
       "  </tbody>\n",
       "</table>\n",
       "</div>"
      ],
      "text/plain": [
       "                                               Tweet            User  \\\n",
       "0  Honey you have to start taking birth control T...      okokok1021   \n",
       "1  @SaqueLargoWin #ShowDeCopa Movistar solo se la...         majoisa   \n",
       "2  You'll find our new contributors across a vari...  5ReasonsSports   \n",
       "3  So.... We have had some changes after our firs...  5ReasonsSports   \n",
       "4  Author @phcartaya is on this week’s #TheLitera...   BooksandBooks   \n",
       "\n",
       "              User_ID Geo           HashTag                            Date  \n",
       "0          2536145704                        Thu Jul 25 21:35:07 +0000 2019  \n",
       "1           152403455           #ShowDeCopa  Thu Jul 25 21:35:06 +0000 2019  \n",
       "2  975153526367277056                        Thu Jul 25 21:35:06 +0000 2019  \n",
       "3  975153526367277056                        Thu Jul 25 21:35:05 +0000 2019  \n",
       "4           127923010      #TheLiteraryLife  Thu Jul 25 21:35:04 +0000 2019  "
      ]
     },
     "execution_count": 16,
     "metadata": {},
     "output_type": "execute_result"
    }
   ],
   "source": [
    "df.head()"
   ]
  },
  {
   "cell_type": "markdown",
   "metadata": {},
   "source": [
    "#### Export"
   ]
  },
  {
   "cell_type": "code",
   "execution_count": 23,
   "metadata": {
    "ExecuteTime": {
     "end_time": "2019-07-25T23:22:27.632380Z",
     "start_time": "2019-07-25T23:22:27.396952Z"
    }
   },
   "outputs": [],
   "source": [
    "# str to name csv file\n",
    "filename = 'lastweek_X_35000'\n",
    "df.to_csv('./Datasets/' + filename + '.csv', index_label=False)"
   ]
  }
 ],
 "metadata": {
  "hide_input": false,
  "kernelspec": {
   "display_name": "Python 3",
   "language": "python",
   "name": "python3"
  },
  "language_info": {
   "codemirror_mode": {
    "name": "ipython",
    "version": 3
   },
   "file_extension": ".py",
   "mimetype": "text/x-python",
   "name": "python",
   "nbconvert_exporter": "python",
   "pygments_lexer": "ipython3",
   "version": "3.6.8"
  },
  "toc": {
   "base_numbering": 1,
   "nav_menu": {},
   "number_sections": true,
   "sideBar": true,
   "skip_h1_title": false,
   "title_cell": "Table of Contents",
   "title_sidebar": "Contents",
   "toc_cell": false,
   "toc_position": {},
   "toc_section_display": true,
   "toc_window_display": false
  },
  "varInspector": {
   "cols": {
    "lenName": 16,
    "lenType": 16,
    "lenVar": 40
   },
   "kernels_config": {
    "python": {
     "delete_cmd_postfix": "",
     "delete_cmd_prefix": "del ",
     "library": "var_list.py",
     "varRefreshCmd": "print(var_dic_list())"
    },
    "r": {
     "delete_cmd_postfix": ") ",
     "delete_cmd_prefix": "rm(",
     "library": "var_list.r",
     "varRefreshCmd": "cat(var_dic_list()) "
    }
   },
   "oldHeight": 323.08000000000004,
   "position": {
    "height": "343.72px",
    "left": "918.44px",
    "right": "20px",
    "top": "-8px",
    "width": "293.36px"
   },
   "types_to_exclude": [
    "module",
    "function",
    "builtin_function_or_method",
    "instance",
    "_Feature"
   ],
   "varInspector_section_display": "block",
   "window_display": true
  }
 },
 "nbformat": 4,
 "nbformat_minor": 2
}
