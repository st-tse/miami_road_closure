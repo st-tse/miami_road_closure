{
 "cells": [
  {
   "cell_type": "code",
   "execution_count": 2,
   "metadata": {
    "ExecuteTime": {
     "end_time": "2019-07-24T18:50:49.123814Z",
     "start_time": "2019-07-24T18:50:48.338493Z"
    }
   },
   "outputs": [],
   "source": [
    "import GetOldTweets3 as got\n",
    "import pandas as pd\n",
    "from tqdm import tqdm_notebook"
   ]
  },
  {
   "cell_type": "code",
   "execution_count": 3,
   "metadata": {
    "ExecuteTime": {
     "end_time": "2019-07-24T19:08:53.746208Z",
     "start_time": "2019-07-24T18:50:49.707549Z"
    }
   },
   "outputs": [],
   "source": [
    "date_start = \"2018-08-31\"\n",
    "date_end = \"2018-09-18\"\n",
    "location = 'Miami, Florida'\n",
    "\n",
    "tweetCriteria = got.manager.TweetCriteria()\\\n",
    "                                        .setSince(date_start)\\\n",
    "                                        .setUntil(date_end)\\\n",
    "                                        .setNear(location)\n",
    "tweet = got.manager.TweetManager.getTweets(tweetCriteria)"
   ]
  },
  {
   "cell_type": "code",
   "execution_count": 85,
   "metadata": {
    "ExecuteTime": {
     "end_time": "2019-07-24T20:16:08.666250Z",
     "start_time": "2019-07-24T20:16:07.057333Z"
    }
   },
   "outputs": [
    {
     "data": {
      "application/vnd.jupyter.widget-view+json": {
       "model_id": "22358fcbc3de4891839e5049ee271091",
       "version_major": 2,
       "version_minor": 0
      },
      "text/plain": [
       "HBox(children=(IntProgress(value=0, max=31249), HTML(value='')))"
      ]
     },
     "metadata": {},
     "output_type": "display_data"
    }
   ],
   "source": [
    "# https://stackoverflow.com/questions/27929472/improve-row-append-performance-on-pandas-dataframes\n",
    "\n",
    "features = {\n",
    "    'Tweet': 'text',\n",
    "    'User': 'username',\n",
    "    'User_ID': 'author_id',\n",
    "    'Geo': 'geo',\n",
    "    'HashTag': 'hashtags',\n",
    "    'Date': 'formatted_date',\n",
    "}\n",
    "\n",
    "data = {}\n",
    "\n",
    "for title in features.keys():\n",
    "    data[title] = []\n",
    "    \n",
    "for i in tqdm_notebook(tweet):\n",
    "    for col, attr in features.items():\n",
    "        var = eval('i.' + attr)\n",
    "        data[col].append(var)\n",
    "        \n",
    "df = pd.DataFrame.from_dict(data)"
   ]
  },
  {
   "cell_type": "code",
   "execution_count": 87,
   "metadata": {
    "ExecuteTime": {
     "end_time": "2019-07-24T20:16:15.440302Z",
     "start_time": "2019-07-24T20:16:15.428335Z"
    }
   },
   "outputs": [
    {
     "data": {
      "text/html": [
       "<div>\n",
       "<style scoped>\n",
       "    .dataframe tbody tr th:only-of-type {\n",
       "        vertical-align: middle;\n",
       "    }\n",
       "\n",
       "    .dataframe tbody tr th {\n",
       "        vertical-align: top;\n",
       "    }\n",
       "\n",
       "    .dataframe thead th {\n",
       "        text-align: right;\n",
       "    }\n",
       "</style>\n",
       "<table border=\"1\" class=\"dataframe\">\n",
       "  <thead>\n",
       "    <tr style=\"text-align: right;\">\n",
       "      <th></th>\n",
       "      <th>Tweet</th>\n",
       "      <th>User</th>\n",
       "      <th>User_ID</th>\n",
       "      <th>Geo</th>\n",
       "      <th>HashTag</th>\n",
       "      <th>Date</th>\n",
       "    </tr>\n",
       "  </thead>\n",
       "  <tbody>\n",
       "    <tr>\n",
       "      <th>0</th>\n",
       "      <td>Si ha pensado en vender su casa este año, ¡aho...</td>\n",
       "      <td>juancromero</td>\n",
       "      <td>52920622</td>\n",
       "      <td></td>\n",
       "      <td></td>\n",
       "      <td>Mon Sep 17 23:57:59 +0000 2018</td>\n",
       "    </tr>\n",
       "    <tr>\n",
       "      <th>1</th>\n",
       "      <td>Instill good habits early! . . #crossfit #cros...</td>\n",
       "      <td>crossfitMIA_FL</td>\n",
       "      <td>2920008020</td>\n",
       "      <td></td>\n",
       "      <td>#crossfit #crossfitmia #crossfitmiapt #crossfi...</td>\n",
       "      <td>Mon Sep 17 23:57:06 +0000 2018</td>\n",
       "    </tr>\n",
       "    <tr>\n",
       "      <th>2</th>\n",
       "      <td>Disabled vehicle, center lane blocked in #Miam...</td>\n",
       "      <td>TotalTrafficMIA</td>\n",
       "      <td>249831776</td>\n",
       "      <td></td>\n",
       "      <td>#Miami #SFLtraffic</td>\n",
       "      <td>Mon Sep 17 23:57:04 +0000 2018</td>\n",
       "    </tr>\n",
       "    <tr>\n",
       "      <th>3</th>\n",
       "      <td>With these young world changers at the Acquali...</td>\n",
       "      <td>RobAHernandez</td>\n",
       "      <td>88836305</td>\n",
       "      <td></td>\n",
       "      <td></td>\n",
       "      <td>Mon Sep 17 23:56:54 +0000 2018</td>\n",
       "    </tr>\n",
       "    <tr>\n",
       "      <th>4</th>\n",
       "      <td>Miami real estate on steroids! #miami #miamibe...</td>\n",
       "      <td>MrReidHarrison</td>\n",
       "      <td>274674911</td>\n",
       "      <td></td>\n",
       "      <td>#miami #miamibeach #aventura #northmiami #sunn...</td>\n",
       "      <td>Mon Sep 17 23:56:12 +0000 2018</td>\n",
       "    </tr>\n",
       "  </tbody>\n",
       "</table>\n",
       "</div>"
      ],
      "text/plain": [
       "                                               Tweet             User  \\\n",
       "0  Si ha pensado en vender su casa este año, ¡aho...      juancromero   \n",
       "1  Instill good habits early! . . #crossfit #cros...   crossfitMIA_FL   \n",
       "2  Disabled vehicle, center lane blocked in #Miam...  TotalTrafficMIA   \n",
       "3  With these young world changers at the Acquali...    RobAHernandez   \n",
       "4  Miami real estate on steroids! #miami #miamibe...   MrReidHarrison   \n",
       "\n",
       "      User_ID Geo                                            HashTag  \\\n",
       "0    52920622                                                          \n",
       "1  2920008020      #crossfit #crossfitmia #crossfitmiapt #crossfi...   \n",
       "2   249831776                                     #Miami #SFLtraffic   \n",
       "3    88836305                                                          \n",
       "4   274674911      #miami #miamibeach #aventura #northmiami #sunn...   \n",
       "\n",
       "                             Date  \n",
       "0  Mon Sep 17 23:57:59 +0000 2018  \n",
       "1  Mon Sep 17 23:57:06 +0000 2018  \n",
       "2  Mon Sep 17 23:57:04 +0000 2018  \n",
       "3  Mon Sep 17 23:56:54 +0000 2018  \n",
       "4  Mon Sep 17 23:56:12 +0000 2018  "
      ]
     },
     "execution_count": 87,
     "metadata": {},
     "output_type": "execute_result"
    }
   ],
   "source": [
    "df.head()"
   ]
  },
  {
   "cell_type": "code",
   "execution_count": 88,
   "metadata": {
    "ExecuteTime": {
     "end_time": "2019-07-24T20:16:38.336721Z",
     "start_time": "2019-07-24T20:16:37.994519Z"
    }
   },
   "outputs": [],
   "source": [
    "df.to_csv('all_tweets', index_label=False)"
   ]
  }
 ],
 "metadata": {
  "hide_input": false,
  "kernelspec": {
   "display_name": "Python 3",
   "language": "python",
   "name": "python3"
  },
  "language_info": {
   "codemirror_mode": {
    "name": "ipython",
    "version": 3
   },
   "file_extension": ".py",
   "mimetype": "text/x-python",
   "name": "python",
   "nbconvert_exporter": "python",
   "pygments_lexer": "ipython3",
   "version": "3.6.8"
  },
  "toc": {
   "base_numbering": 1,
   "nav_menu": {},
   "number_sections": true,
   "sideBar": true,
   "skip_h1_title": false,
   "title_cell": "Table of Contents",
   "title_sidebar": "Contents",
   "toc_cell": false,
   "toc_position": {},
   "toc_section_display": true,
   "toc_window_display": false
  },
  "varInspector": {
   "cols": {
    "lenName": 16,
    "lenType": 16,
    "lenVar": 40
   },
   "kernels_config": {
    "python": {
     "delete_cmd_postfix": "",
     "delete_cmd_prefix": "del ",
     "library": "var_list.py",
     "varRefreshCmd": "print(var_dic_list())"
    },
    "r": {
     "delete_cmd_postfix": ") ",
     "delete_cmd_prefix": "rm(",
     "library": "var_list.r",
     "varRefreshCmd": "cat(var_dic_list()) "
    }
   },
   "position": {
    "height": "343.72px",
    "left": "915.44px",
    "right": "20px",
    "top": "120px",
    "width": "293.36px"
   },
   "types_to_exclude": [
    "module",
    "function",
    "builtin_function_or_method",
    "instance",
    "_Feature"
   ],
   "window_display": false
  }
 },
 "nbformat": 4,
 "nbformat_minor": 2
}
