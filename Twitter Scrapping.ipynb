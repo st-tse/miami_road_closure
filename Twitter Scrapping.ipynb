{
 "cells": [
  {
   "cell_type": "markdown",
   "metadata": {},
   "source": [
    "### Imports"
   ]
  },
  {
   "cell_type": "markdown",
   "metadata": {
    "ExecuteTime": {
     "end_time": "2019-07-24T20:40:12.086586Z",
     "start_time": "2019-07-24T20:40:12.082600Z"
    }
   },
   "source": [
    "#### Required"
   ]
  },
  {
   "cell_type": "code",
   "execution_count": 2,
   "metadata": {
    "ExecuteTime": {
     "end_time": "2019-07-30T16:29:51.752826Z",
     "start_time": "2019-07-30T16:29:50.611699Z"
    }
   },
   "outputs": [],
   "source": [
    "import GetOldTweets3 as got\n",
    "import pandas as pd"
   ]
  },
  {
   "cell_type": "markdown",
   "metadata": {},
   "source": [
    "#### Optional"
   ]
  },
  {
   "cell_type": "markdown",
   "metadata": {},
   "source": [
    "tqdm is used in 3.2 to measure progress  \n",
    "Installation is NOT required but changes have to be made if you choose not to use it  \n",
    "\n",
    "<b>If not using tqdm remove tqdm_notebook() from 3.2 line 11</b>\n",
    "\n",
    "Documentation can be found here: https://github.com/tqdm/tqdm"
   ]
  },
  {
   "cell_type": "code",
   "execution_count": 3,
   "metadata": {
    "ExecuteTime": {
     "end_time": "2019-07-25T17:12:39.380660Z",
     "start_time": "2019-07-25T17:12:36.804545Z"
    }
   },
   "outputs": [
    {
     "name": "stdout",
     "output_type": "stream",
     "text": [
      "Requirement already satisfied: tqdm in c:\\users\\steph\\anaconda3\\lib\\site-packages (4.31.1)\n"
     ]
    }
   ],
   "source": [
    "# install tqdm for progress bar\n",
    "# don't run if tqdm is already installed\n",
    "#!pip install tqdm"
   ]
  },
  {
   "cell_type": "code",
   "execution_count": 3,
   "metadata": {
    "ExecuteTime": {
     "end_time": "2019-07-30T16:29:53.007699Z",
     "start_time": "2019-07-30T16:29:52.988837Z"
    }
   },
   "outputs": [],
   "source": [
    "# Don't run this cell if you have not installed tqdm otherwise you'll get an error\n",
    "from tqdm import tqdm_notebook "
   ]
  },
  {
   "cell_type": "markdown",
   "metadata": {},
   "source": [
    "### Scrape"
   ]
  },
  {
   "cell_type": "markdown",
   "metadata": {
    "heading_collapsed": true
   },
   "source": [
    "#### Get Local"
   ]
  },
  {
   "cell_type": "markdown",
   "metadata": {
    "hidden": true
   },
   "source": [
    "Only use if scrape has previously been executed and tweets are save on disk  \n",
    "if so skip to 3  \n",
    "otherwise skip this cell and run 2.2-2.4"
   ]
  },
  {
   "cell_type": "code",
   "execution_count": null,
   "metadata": {
    "hidden": true
   },
   "outputs": [],
   "source": [
    "# must have been stored as tweet to work\n",
    "# if tweets were saved under another variable simply hange 'tweet' to that variable name\n",
    "% store -r tweet"
   ]
  },
  {
   "cell_type": "markdown",
   "metadata": {},
   "source": [
    "#### Parameters"
   ]
  },
  {
   "cell_type": "code",
   "execution_count": 4,
   "metadata": {
    "ExecuteTime": {
     "end_time": "2019-07-30T16:29:55.731353Z",
     "start_time": "2019-07-30T16:29:55.725879Z"
    }
   },
   "outputs": [],
   "source": [
    "#'2018-08-31'\n",
    "#'2018-09-06'\n",
    "date_start = \"2019-07-28\"\n",
    "date_end = \"2019-07-29\"\n",
    "actual = '@fl511_southeast'\n",
    "search = 'Miami-Dade'\n",
    "location = 'Miami'\n",
    "#FL511 Statewide\n",
    "#@fl511_state"
   ]
  },
  {
   "cell_type": "markdown",
   "metadata": {},
   "source": [
    "#### Web Scrape"
   ]
  },
  {
   "cell_type": "code",
   "execution_count": 53,
   "metadata": {
    "ExecuteTime": {
     "end_time": "2019-07-30T06:27:07.421915Z",
     "start_time": "2019-07-30T06:27:07.418433Z"
    }
   },
   "outputs": [],
   "source": [
    "# gets tweets with above \n",
    "# .setUsername(actual).setQuerySearch('Miami-Dade').setMaxTweets(20) # works\n",
    "# .setUsername(actual).setQuerySearch('Miami-Dade').setSince(date_start).setUntil(date_end)\n",
    "# .setSince(date_start).setUntil(date_end)\n",
    "# .setNear(location).setWithin('15mi')\n",
    "# \n",
    "\n",
    "# gets tweets with above parameter\n",
    "tweetCriteria = got.manager.TweetCriteria().setNear(location).setMaxTweets(50)"
   ]
  },
  {
   "cell_type": "code",
   "execution_count": 54,
   "metadata": {
    "ExecuteTime": {
     "end_time": "2019-07-30T06:27:09.548290Z",
     "start_time": "2019-07-30T06:27:08.442968Z"
    }
   },
   "outputs": [],
   "source": [
    "tweet = got.manager.TweetManager.getTweets(tweetCriteria)"
   ]
  },
  {
   "cell_type": "markdown",
   "metadata": {
    "heading_collapsed": true
   },
   "source": [
    "#### Save Locally"
   ]
  },
  {
   "cell_type": "code",
   "execution_count": 4,
   "metadata": {
    "ExecuteTime": {
     "end_time": "2019-07-24T20:51:19.200137Z",
     "start_time": "2019-07-24T20:51:18.845041Z"
    },
    "hidden": true
   },
   "outputs": [
    {
     "name": "stdout",
     "output_type": "stream",
     "text": [
      "Stored 'tweet' (list)\n"
     ]
    }
   ],
   "source": [
    "# stores variable locally on disk for future use\n",
    "%store tweet"
   ]
  },
  {
   "cell_type": "markdown",
   "metadata": {},
   "source": [
    "### To Dataframe"
   ]
  },
  {
   "cell_type": "markdown",
   "metadata": {},
   "source": [
    "#### Features "
   ]
  },
  {
   "cell_type": "code",
   "execution_count": 9,
   "metadata": {
    "ExecuteTime": {
     "end_time": "2019-07-30T18:07:33.191183Z",
     "start_time": "2019-07-30T18:07:33.187639Z"
    }
   },
   "outputs": [],
   "source": [
    "# name of feature : name of attribute in tweet obj\n",
    "features = {\n",
    "    'Tweet': 'text',\n",
    "    'User': 'username',\n",
    "    'User_ID': 'author_id',\n",
    "    'Geo': 'geo',\n",
    "    'HashTag': 'hashtags',\n",
    "    'Date': 'formatted_date',\n",
    "}"
   ]
  },
  {
   "cell_type": "markdown",
   "metadata": {},
   "source": [
    "#### Generate DataFrame"
   ]
  },
  {
   "cell_type": "markdown",
   "metadata": {},
   "source": [
    "Creates a dataframe from scrape  \n",
    "Uses advice mentioned in this thread on how to create dataframe w/o using append() to improve efficiency  \n",
    "https://stackoverflow.com/questions/27929472/improve-row-append-performance-on-pandas-dataframes"
   ]
  },
  {
   "cell_type": "code",
   "execution_count": 55,
   "metadata": {
    "ExecuteTime": {
     "end_time": "2019-07-30T06:27:13.455351Z",
     "start_time": "2019-07-30T06:27:13.399301Z"
    }
   },
   "outputs": [
    {
     "data": {
      "application/vnd.jupyter.widget-view+json": {
       "model_id": "a7d4dcd89096409fabc55e6e972cb9ad",
       "version_major": 2,
       "version_minor": 0
      },
      "text/plain": [
       "HBox(children=(IntProgress(value=0, max=50), HTML(value='')))"
      ]
     },
     "metadata": {},
     "output_type": "display_data"
    },
    {
     "name": "stdout",
     "output_type": "stream",
     "text": [
      "\n"
     ]
    }
   ],
   "source": [
    "data = {}\n",
    "\n",
    "for title in features.keys():\n",
    "    data[title] = []\n",
    "\n",
    "# progress bar will not show without certain packages installed\n",
    "for i in tqdm_notebook(tweet):\n",
    "    for col, attr in features.items():\n",
    "        var = eval('i.' + attr)\n",
    "        data[col].append(var)\n",
    "        \n",
    "df = pd.DataFrame.from_dict(data)"
   ]
  },
  {
   "cell_type": "code",
   "execution_count": 57,
   "metadata": {
    "ExecuteTime": {
     "end_time": "2019-07-30T06:27:42.146985Z",
     "start_time": "2019-07-30T06:27:42.133099Z"
    }
   },
   "outputs": [
    {
     "data": {
      "text/html": [
       "<div>\n",
       "<style scoped>\n",
       "    .dataframe tbody tr th:only-of-type {\n",
       "        vertical-align: middle;\n",
       "    }\n",
       "\n",
       "    .dataframe tbody tr th {\n",
       "        vertical-align: top;\n",
       "    }\n",
       "\n",
       "    .dataframe thead th {\n",
       "        text-align: right;\n",
       "    }\n",
       "</style>\n",
       "<table border=\"1\" class=\"dataframe\">\n",
       "  <thead>\n",
       "    <tr style=\"text-align: right;\">\n",
       "      <th></th>\n",
       "      <th>Tweet</th>\n",
       "      <th>User</th>\n",
       "      <th>User_ID</th>\n",
       "      <th>Geo</th>\n",
       "      <th>HashTag</th>\n",
       "      <th>Date</th>\n",
       "    </tr>\n",
       "  </thead>\n",
       "  <tbody>\n",
       "    <tr>\n",
       "      <th>0</th>\n",
       "      <td>The so call inclusive ppl are actually the mos...</td>\n",
       "      <td>opendoorslowly1</td>\n",
       "      <td>863027382986440704</td>\n",
       "      <td></td>\n",
       "      <td></td>\n",
       "      <td>Tue Jul 30 06:26:51 +0000 2019</td>\n",
       "    </tr>\n",
       "    <tr>\n",
       "      <th>1</th>\n",
       "      <td>i want to be a oxtail bone</td>\n",
       "      <td>Londonnn_</td>\n",
       "      <td>527992917</td>\n",
       "      <td></td>\n",
       "      <td></td>\n",
       "      <td>Tue Jul 30 06:26:50 +0000 2019</td>\n",
       "    </tr>\n",
       "    <tr>\n",
       "      <th>2</th>\n",
       "      <td>#NowPlaying Dios es Bueno by Son by Fourhttp:/...</td>\n",
       "      <td>ConexEspiritual</td>\n",
       "      <td>270210605</td>\n",
       "      <td></td>\n",
       "      <td>#NowPlaying</td>\n",
       "      <td>Tue Jul 30 06:26:48 +0000 2019</td>\n",
       "    </tr>\n",
       "    <tr>\n",
       "      <th>3</th>\n",
       "      <td>http://Wepa.Fm Now Playing - Me Muero by Sergi...</td>\n",
       "      <td>WepaFmSpotlight</td>\n",
       "      <td>3493243409</td>\n",
       "      <td></td>\n",
       "      <td></td>\n",
       "      <td>Tue Jul 30 06:26:47 +0000 2019</td>\n",
       "    </tr>\n",
       "    <tr>\n",
       "      <th>4</th>\n",
       "      <td>https://twitter.com/drakee_ymcmb/status/115602...</td>\n",
       "      <td>BryanArauz16</td>\n",
       "      <td>4470242844</td>\n",
       "      <td></td>\n",
       "      <td></td>\n",
       "      <td>Tue Jul 30 06:26:47 +0000 2019</td>\n",
       "    </tr>\n",
       "  </tbody>\n",
       "</table>\n",
       "</div>"
      ],
      "text/plain": [
       "                                               Tweet             User  \\\n",
       "0  The so call inclusive ppl are actually the mos...  opendoorslowly1   \n",
       "1                         i want to be a oxtail bone        Londonnn_   \n",
       "2  #NowPlaying Dios es Bueno by Son by Fourhttp:/...  ConexEspiritual   \n",
       "3  http://Wepa.Fm Now Playing - Me Muero by Sergi...  WepaFmSpotlight   \n",
       "4  https://twitter.com/drakee_ymcmb/status/115602...     BryanArauz16   \n",
       "\n",
       "              User_ID Geo      HashTag                            Date  \n",
       "0  863027382986440704                   Tue Jul 30 06:26:51 +0000 2019  \n",
       "1           527992917                   Tue Jul 30 06:26:50 +0000 2019  \n",
       "2           270210605      #NowPlaying  Tue Jul 30 06:26:48 +0000 2019  \n",
       "3          3493243409                   Tue Jul 30 06:26:47 +0000 2019  \n",
       "4          4470242844                   Tue Jul 30 06:26:47 +0000 2019  "
      ]
     },
     "execution_count": 57,
     "metadata": {},
     "output_type": "execute_result"
    }
   ],
   "source": [
    "df.head()"
   ]
  },
  {
   "cell_type": "markdown",
   "metadata": {},
   "source": [
    "#### Export"
   ]
  },
  {
   "cell_type": "code",
   "execution_count": 52,
   "metadata": {
    "ExecuteTime": {
     "end_time": "2019-07-30T06:23:00.250150Z",
     "start_time": "2019-07-30T06:23:00.231829Z"
    }
   },
   "outputs": [],
   "source": [
    "# str to name csv file\n",
    "filename = 'MD_45'\n",
    "df.to_csv('./Datasets/' + filename + '.csv', index_label=False)"
   ]
  },
  {
   "cell_type": "code",
   "execution_count": 65,
   "metadata": {
    "ExecuteTime": {
     "end_time": "2019-07-30T06:32:53.484265Z",
     "start_time": "2019-07-30T06:32:53.479307Z"
    }
   },
   "outputs": [],
   "source": [
    "x = 'Mon Jul 29 23:59:35 +0000 2019'\n",
    "x = str(pd.to_datetime(x))"
   ]
  },
  {
   "cell_type": "code",
   "execution_count": 20,
   "metadata": {
    "ExecuteTime": {
     "end_time": "2019-07-30T18:59:01.851692Z",
     "start_time": "2019-07-30T18:19:49.616613Z"
    }
   },
   "outputs": [
    {
     "data": {
      "application/vnd.jupyter.widget-view+json": {
       "model_id": "947f719826d541f5b6b65978841ae0e6",
       "version_major": 2,
       "version_minor": 0
      },
      "text/plain": [
       "HBox(children=(IntProgress(value=0, max=22629), HTML(value='')))"
      ]
     },
     "metadata": {},
     "output_type": "display_data"
    },
    {
     "name": "stdout",
     "output_type": "stream",
     "text": [
      "\n"
     ]
    },
    {
     "data": {
      "application/vnd.jupyter.widget-view+json": {
       "model_id": "7a7299fb677140c3be8342ab4c621415",
       "version_major": 2,
       "version_minor": 0
      },
      "text/plain": [
       "HBox(children=(IntProgress(value=0, max=10), HTML(value='')))"
      ]
     },
     "metadata": {},
     "output_type": "display_data"
    },
    {
     "name": "stdout",
     "output_type": "stream",
     "text": [
      "\n"
     ]
    },
    {
     "data": {
      "application/vnd.jupyter.widget-view+json": {
       "model_id": "a44b4b6184714929bd4c39d7be6e8da6",
       "version_major": 2,
       "version_minor": 0
      },
      "text/plain": [
       "HBox(children=(IntProgress(value=0, max=6536), HTML(value='')))"
      ]
     },
     "metadata": {},
     "output_type": "display_data"
    },
    {
     "name": "stdout",
     "output_type": "stream",
     "text": [
      "\n"
     ]
    },
    {
     "data": {
      "application/vnd.jupyter.widget-view+json": {
       "model_id": "e8a0f759866546d7a9d0c8b8c7d0ce23",
       "version_major": 2,
       "version_minor": 0
      },
      "text/plain": [
       "HBox(children=(IntProgress(value=0, max=8849), HTML(value='')))"
      ]
     },
     "metadata": {},
     "output_type": "display_data"
    },
    {
     "name": "stdout",
     "output_type": "stream",
     "text": [
      "\n"
     ]
    },
    {
     "data": {
      "application/vnd.jupyter.widget-view+json": {
       "model_id": "5624c7563b964230a76ead98c499f93c",
       "version_major": 2,
       "version_minor": 0
      },
      "text/plain": [
       "HBox(children=(IntProgress(value=0, max=8706), HTML(value='')))"
      ]
     },
     "metadata": {},
     "output_type": "display_data"
    },
    {
     "name": "stdout",
     "output_type": "stream",
     "text": [
      "\n"
     ]
    },
    {
     "data": {
      "application/vnd.jupyter.widget-view+json": {
       "model_id": "7886814694bf4d3b98c3fbdbe88c5da6",
       "version_major": 2,
       "version_minor": 0
      },
      "text/plain": [
       "HBox(children=(IntProgress(value=0, max=10507), HTML(value='')))"
      ]
     },
     "metadata": {},
     "output_type": "display_data"
    },
    {
     "name": "stdout",
     "output_type": "stream",
     "text": [
      "\n"
     ]
    },
    {
     "data": {
      "application/vnd.jupyter.widget-view+json": {
       "model_id": "b236feca400b4540947c47b53a66cfcb",
       "version_major": 2,
       "version_minor": 0
      },
      "text/plain": [
       "HBox(children=(IntProgress(value=0, max=11956), HTML(value='')))"
      ]
     },
     "metadata": {},
     "output_type": "display_data"
    },
    {
     "name": "stdout",
     "output_type": "stream",
     "text": [
      "\n"
     ]
    },
    {
     "data": {
      "application/vnd.jupyter.widget-view+json": {
       "model_id": "b9051f9d5f3140a8a308b26f6e47afec",
       "version_major": 2,
       "version_minor": 0
      },
      "text/plain": [
       "HBox(children=(IntProgress(value=0, max=3937), HTML(value='')))"
      ]
     },
     "metadata": {},
     "output_type": "display_data"
    },
    {
     "name": "stdout",
     "output_type": "stream",
     "text": [
      "\n"
     ]
    },
    {
     "data": {
      "application/vnd.jupyter.widget-view+json": {
       "model_id": "08da17c23ddb4016b61b6a030ee4ffad",
       "version_major": 2,
       "version_minor": 0
      },
      "text/plain": [
       "HBox(children=(IntProgress(value=0, max=369), HTML(value='')))"
      ]
     },
     "metadata": {},
     "output_type": "display_data"
    },
    {
     "name": "stdout",
     "output_type": "stream",
     "text": [
      "\n"
     ]
    },
    {
     "data": {
      "application/vnd.jupyter.widget-view+json": {
       "model_id": "a81e96a7925b455385c233ba344a480e",
       "version_major": 2,
       "version_minor": 0
      },
      "text/plain": [
       "HBox(children=(IntProgress(value=0, max=15), HTML(value='')))"
      ]
     },
     "metadata": {},
     "output_type": "display_data"
    },
    {
     "name": "stdout",
     "output_type": "stream",
     "text": [
      "\n"
     ]
    },
    {
     "data": {
      "application/vnd.jupyter.widget-view+json": {
       "model_id": "af7d780f2365469f8f8c97e01b9d8688",
       "version_major": 2,
       "version_minor": 0
      },
      "text/plain": [
       "HBox(children=(IntProgress(value=0, max=42), HTML(value='')))"
      ]
     },
     "metadata": {},
     "output_type": "display_data"
    },
    {
     "name": "stdout",
     "output_type": "stream",
     "text": [
      "\n"
     ]
    },
    {
     "data": {
      "application/vnd.jupyter.widget-view+json": {
       "model_id": "c44bdd21358544c4a652b249ca543a1b",
       "version_major": 2,
       "version_minor": 0
      },
      "text/plain": [
       "HBox(children=(IntProgress(value=1, bar_style='info', max=1), HTML(value='')))"
      ]
     },
     "metadata": {},
     "output_type": "display_data"
    },
    {
     "name": "stdout",
     "output_type": "stream",
     "text": [
      "\n"
     ]
    },
    {
     "data": {
      "application/vnd.jupyter.widget-view+json": {
       "model_id": "ec65389dcf1c4601804f24ade91daabf",
       "version_major": 2,
       "version_minor": 0
      },
      "text/plain": [
       "HBox(children=(IntProgress(value=0, max=11410), HTML(value='')))"
      ]
     },
     "metadata": {},
     "output_type": "display_data"
    },
    {
     "name": "stdout",
     "output_type": "stream",
     "text": [
      "\n"
     ]
    },
    {
     "data": {
      "application/vnd.jupyter.widget-view+json": {
       "model_id": "d5ed41e4a0a9413b967645a7d68402b5",
       "version_major": 2,
       "version_minor": 0
      },
      "text/plain": [
       "HBox(children=(IntProgress(value=0, max=34888), HTML(value='')))"
      ]
     },
     "metadata": {},
     "output_type": "display_data"
    },
    {
     "name": "stdout",
     "output_type": "stream",
     "text": [
      "\n"
     ]
    },
    {
     "data": {
      "application/vnd.jupyter.widget-view+json": {
       "model_id": "640d42d8f4454973a33bf9c0956e8263",
       "version_major": 2,
       "version_minor": 0
      },
      "text/plain": [
       "HBox(children=(IntProgress(value=0, max=6256), HTML(value='')))"
      ]
     },
     "metadata": {},
     "output_type": "display_data"
    },
    {
     "name": "stdout",
     "output_type": "stream",
     "text": [
      "\n"
     ]
    }
   ],
   "source": [
    "sites= ['@TotalTrafficMIA', '@TrafficAlertSFL', '@nbc6', '@CBSMiami', '@wsvn', '@MiamiHerald', '@SunSentinel', \n",
    "        '@WPLGLocal10', '@miaminewsnow', '@BeachNewsAlerts', '@FLTurnpikeSFL', '@breakingnewsmia',\n",
    "       '@fl511_i95', '@fl511_southeast', '@fl511_95EXPRESS']\n",
    "\n",
    "for site in sites:\n",
    "    tweetCriteria = got.manager.TweetCriteria().setUsername(site).setSince('2019-01-01').setUntil('2019-07-31')\n",
    "    tweet = got.manager.TweetManager.getTweets(tweetCriteria) \n",
    "    data = {}\n",
    "\n",
    "    for title in features.keys():\n",
    "        data[title] = []\n",
    "\n",
    "    # progress bar will not show without certain packages installed\n",
    "    for i in tqdm_notebook(tweet):\n",
    "        for col, attr in features.items():\n",
    "            var = eval('i.' + attr)\n",
    "            data[col].append(var)\n",
    "\n",
    "    df = pd.DataFrame.from_dict(data)\n",
    "                            \n",
    "    filename = f'siteloop_{site}'\n",
    "    df.to_csv('./Datasets/' + filename + '.csv', index_label=False)"
   ]
  }
 ],
 "metadata": {
  "hide_input": false,
  "kernelspec": {
   "display_name": "Python 3",
   "language": "python",
   "name": "python3"
  },
  "language_info": {
   "codemirror_mode": {
    "name": "ipython",
    "version": 3
   },
   "file_extension": ".py",
   "mimetype": "text/x-python",
   "name": "python",
   "nbconvert_exporter": "python",
   "pygments_lexer": "ipython3",
   "version": "3.6.8"
  },
  "toc": {
   "base_numbering": 1,
   "nav_menu": {},
   "number_sections": true,
   "sideBar": true,
   "skip_h1_title": false,
   "title_cell": "Table of Contents",
   "title_sidebar": "Contents",
   "toc_cell": false,
   "toc_position": {},
   "toc_section_display": true,
   "toc_window_display": false
  },
  "varInspector": {
   "cols": {
    "lenName": 16,
    "lenType": 16,
    "lenVar": 40
   },
   "kernels_config": {
    "python": {
     "delete_cmd_postfix": "",
     "delete_cmd_prefix": "del ",
     "library": "var_list.py",
     "varRefreshCmd": "print(var_dic_list())"
    },
    "r": {
     "delete_cmd_postfix": ") ",
     "delete_cmd_prefix": "rm(",
     "library": "var_list.r",
     "varRefreshCmd": "cat(var_dic_list()) "
    }
   },
   "oldHeight": 323.08000000000004,
   "position": {
    "height": "343.72px",
    "left": "921.44px",
    "right": "20px",
    "top": "42px",
    "width": "293.36px"
   },
   "types_to_exclude": [
    "module",
    "function",
    "builtin_function_or_method",
    "instance",
    "_Feature"
   ],
   "varInspector_section_display": "block",
   "window_display": false
  }
 },
 "nbformat": 4,
 "nbformat_minor": 2
}
